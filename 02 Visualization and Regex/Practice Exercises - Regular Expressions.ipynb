{
 "cells": [
  {
   "cell_type": "markdown",
   "metadata": {},
   "source": [
    "### Regular Expression Practice Exercise"
   ]
  },
  {
   "cell_type": "markdown",
   "metadata": {},
   "source": [
    "This excersie will use `''.join()` function of python\n",
    "\n",
    "What join does is, it combines the elements of a list or tuple with a common separator\n",
    "\n",
    "To be able to use finditer, we need to pass a string. We use the join function to achieve that."
   ]
  },
  {
   "cell_type": "code",
   "execution_count": 9,
   "metadata": {},
   "outputs": [
    {
     "name": "stdout",
     "output_type": "stream",
     "text": [
      "Joining element of 'a' using ' | ' as separator\n",
      "This | Is | it | Also | Mine | Whatever\n",
      "\n",
      "Joining element of 'a' using ', ' as separator\n",
      "This, Is, it, Also, Mine, Whatever\n",
      "\n",
      "Joining element of 'a' without a separator\n",
      "ThisIsitAlsoMineWhatever\n",
      "\n",
      "Joining element of 'a' using '||' as separator\n",
      "This||Is||it||Also||Mine||Whatever\n",
      "\n"
     ]
    }
   ],
   "source": [
    "# Example of join Functions\n",
    "a = ['This','Is','it','Also','Mine','Whatever']\n",
    "\n",
    "print(\"Joining element of 'a' using ' | ' as separator\")\n",
    "print(\" | \".join(a))\n",
    "print()\n",
    "print(\"Joining element of 'a' using ', ' as separator\")\n",
    "print(\", \".join(a))\n",
    "print()\n",
    "print(\"Joining element of 'a' without a separator\")\n",
    "print(\"\".join(a))\n",
    "print()\n",
    "print(\"Joining element of 'a' using '||' as separator\")\n",
    "print(\"||\".join(a))\n",
    "print()\n"
   ]
  },
  {
   "cell_type": "markdown",
   "metadata": {},
   "source": [
    "`It can be used for a column of a dataframe as well`"
   ]
  },
  {
   "cell_type": "markdown",
   "metadata": {},
   "source": [
    "#### Import the random email data file"
   ]
  },
  {
   "cell_type": "code",
   "execution_count": 1,
   "metadata": {},
   "outputs": [],
   "source": [
    "import re\n",
    "import pandas as pd\n",
    "\n",
    "data = pd.read_csv('Random Email Dataset.csv')"
   ]
  },
  {
   "cell_type": "markdown",
   "metadata": {},
   "source": [
    "#### Display the Email ids"
   ]
  },
  {
   "cell_type": "code",
   "execution_count": 4,
   "metadata": {
    "scrolled": true
   },
   "outputs": [
    {
     "data": {
      "text/html": [
       "<div>\n",
       "<style scoped>\n",
       "    .dataframe tbody tr th:only-of-type {\n",
       "        vertical-align: middle;\n",
       "    }\n",
       "\n",
       "    .dataframe tbody tr th {\n",
       "        vertical-align: top;\n",
       "    }\n",
       "\n",
       "    .dataframe thead th {\n",
       "        text-align: right;\n",
       "    }\n",
       "</style>\n",
       "<table border=\"1\" class=\"dataframe\">\n",
       "  <thead>\n",
       "    <tr style=\"text-align: right;\">\n",
       "      <th></th>\n",
       "      <th>Id</th>\n",
       "      <th>Email Address</th>\n",
       "    </tr>\n",
       "  </thead>\n",
       "  <tbody>\n",
       "    <tr>\n",
       "      <th>0</th>\n",
       "      <td>138</td>\n",
       "      <td>mnmwuhasdwqweqw</td>\n",
       "    </tr>\n",
       "    <tr>\n",
       "      <th>1</th>\n",
       "      <td>141</td>\n",
       "      <td>cynvhupf@gamail.com</td>\n",
       "    </tr>\n",
       "    <tr>\n",
       "      <th>2</th>\n",
       "      <td>155</td>\n",
       "      <td>doznfpxy@gamail.com</td>\n",
       "    </tr>\n",
       "    <tr>\n",
       "      <th>3</th>\n",
       "      <td>156</td>\n",
       "      <td>ufpgolgelastqxaoi</td>\n",
       "    </tr>\n",
       "    <tr>\n",
       "      <th>4</th>\n",
       "      <td>160</td>\n",
       "      <td>rdvafvkummnuj@yahooo.com</td>\n",
       "    </tr>\n",
       "  </tbody>\n",
       "</table>\n",
       "</div>"
      ],
      "text/plain": [
       "    Id             Email Address\n",
       "0  138           mnmwuhasdwqweqw\n",
       "1  141       cynvhupf@gamail.com\n",
       "2  155       doznfpxy@gamail.com\n",
       "3  156         ufpgolgelastqxaoi\n",
       "4  160  rdvafvkummnuj@yahooo.com"
      ]
     },
     "execution_count": 4,
     "metadata": {},
     "output_type": "execute_result"
    }
   ],
   "source": [
    "data.head()"
   ]
  },
  {
   "cell_type": "code",
   "execution_count": 5,
   "metadata": {},
   "outputs": [
    {
     "data": {
      "text/plain": [
       "0      138\n",
       "1      141\n",
       "2      155\n",
       "3      156\n",
       "4      160\n",
       "      ... \n",
       "165    985\n",
       "166    989\n",
       "167    991\n",
       "168    992\n",
       "169    999\n",
       "Name: Id, Length: 170, dtype: int64"
      ]
     },
     "execution_count": 5,
     "metadata": {},
     "output_type": "execute_result"
    }
   ],
   "source": [
    "data['Id']"
   ]
  },
  {
   "cell_type": "code",
   "execution_count": 6,
   "metadata": {},
   "outputs": [
    {
     "data": {
      "text/plain": [
       "0               mnmwuhasdwqweqw\n",
       "1           cynvhupf@gamail.com\n",
       "2           doznfpxy@gamail.com\n",
       "3             ufpgolgelastqxaoi\n",
       "4      rdvafvkummnuj@yahooo.com\n",
       "                 ...           \n",
       "165         ptvqlffe@gamail.com\n",
       "166         lzcrsiuo@gamail.com\n",
       "167         iydthkxz@gamail.com\n",
       "168           mpmwehcnjjntjvfnl\n",
       "169      mphibnuxgtr@yahooo.com\n",
       "Name: Email Address, Length: 170, dtype: object"
      ]
     },
     "execution_count": 6,
     "metadata": {},
     "output_type": "execute_result"
    }
   ],
   "source": [
    "data['Email Address']"
   ]
  },
  {
   "cell_type": "markdown",
   "metadata": {},
   "source": [
    "#### FInd the number of gamail email Ids (ending with @gamail.com)"
   ]
  },
  {
   "cell_type": "code",
   "execution_count": 28,
   "metadata": {},
   "outputs": [],
   "source": [
    "def get_email_counts_by_domain(domain):\n",
    "    match_count = 0\n",
    "    needle = re.compile(r'[a-zA-Z0-9_]+@' + domain + r'\\b')\n",
    "    haystack = '|'.join(data['Email Address'])\n",
    "    matches = needle.finditer(haystack)\n",
    "    \n",
    "    for m in matches:\n",
    "        match_count += 1\n",
    "        \n",
    "    print('There are ' + str(match_count) + ' ' + domain + ' results')"
   ]
  },
  {
   "cell_type": "code",
   "execution_count": 29,
   "metadata": {},
   "outputs": [
    {
     "name": "stdout",
     "output_type": "stream",
     "text": [
      "There are 100 gamail.com results\n"
     ]
    }
   ],
   "source": [
    "get_email_counts_by_domain('gamail.com')"
   ]
  },
  {
   "cell_type": "markdown",
   "metadata": {},
   "source": [
    "#### Find the number of yahooo email Ids (ending with @yahooo.com)"
   ]
  },
  {
   "cell_type": "code",
   "execution_count": 30,
   "metadata": {},
   "outputs": [
    {
     "name": "stdout",
     "output_type": "stream",
     "text": [
      "There are 30 yahooo.com results\n"
     ]
    }
   ],
   "source": [
    "get_email_counts_by_domain('yahooo.com')"
   ]
  },
  {
   "cell_type": "markdown",
   "metadata": {},
   "source": [
    "#### Find the number of entries that are not email ids (consider the entries that do not have a @ and a .com/.in/.org in them)"
   ]
  },
  {
   "cell_type": "code",
   "execution_count": 40,
   "metadata": {},
   "outputs": [
    {
     "name": "stdout",
     "output_type": "stream",
     "text": [
      "There are 40 records not containing @\n",
      "There are 40 records not containing .com\n",
      "There are 170 records not containing .org\n",
      "There are 166 records not containing .in\n"
     ]
    }
   ],
   "source": [
    "def get_entries_without(c):\n",
    "    all_entries = data['Email Address'].count()\n",
    "    match_count = 0\n",
    "    needle = re.compile(r'' + c + r'+')\n",
    "    haystack = '|'.join(data['Email Address'])\n",
    "    matches = needle.finditer(haystack)\n",
    "    \n",
    "    for m in matches:\n",
    "        match_count += 1\n",
    "        \n",
    "    print('There are ' + str(all_entries - match_count) + ' records not containing ' + c)\n",
    "\n",
    "get_entries_without('@')\n",
    "get_entries_without('.com')\n",
    "get_entries_without('.org')\n",
    "get_entries_without('.in')"
   ]
  },
  {
   "cell_type": "markdown",
   "metadata": {},
   "source": [
    "#### find the total entries that have the pattern 'asd' in them"
   ]
  },
  {
   "cell_type": "code",
   "execution_count": 42,
   "metadata": {},
   "outputs": [
    {
     "name": "stdout",
     "output_type": "stream",
     "text": [
      "There are 402 records containing 'asd'\n"
     ]
    }
   ],
   "source": [
    "def get_entries_with(string):\n",
    "    match_count = 0\n",
    "    needle = re.compile(r'[' + string + r']+')\n",
    "    haystack = '|'.join(data['Email Address'])\n",
    "    matches = needle.finditer(haystack)\n",
    "    \n",
    "    for m in matches:\n",
    "        match_count += 1\n",
    "    \n",
    "    print('There are ' + str(match_count) + ' records containing \\'' + string + '\\'')\n",
    "\n",
    "get_entries_with('asd')"
   ]
  },
  {
   "cell_type": "markdown",
   "metadata": {},
   "source": [
    "#### find the number of email Ids that start with k"
   ]
  },
  {
   "cell_type": "code",
   "execution_count": 47,
   "metadata": {},
   "outputs": [
    {
     "name": "stdout",
     "output_type": "stream",
     "text": [
      "There are 7 records starting with k\n"
     ]
    }
   ],
   "source": [
    "match_count = 0\n",
    "needle = re.compile(r'\\bk\\w*')\n",
    "haystack = '|'.join(data['Email Address'])\n",
    "matches = needle.finditer(haystack)\n",
    "\n",
    "for m in matches:\n",
    "    match_count += 1\n",
    "    \n",
    "print('There are ' + str(match_count) + ' records starting with k')"
   ]
  }
 ],
 "metadata": {
  "kernelspec": {
   "display_name": "Python 3",
   "language": "python",
   "name": "python3"
  },
  "language_info": {
   "codemirror_mode": {
    "name": "ipython",
    "version": 3
   },
   "file_extension": ".py",
   "mimetype": "text/x-python",
   "name": "python",
   "nbconvert_exporter": "python",
   "pygments_lexer": "ipython3",
   "version": "3.8.3"
  }
 },
 "nbformat": 4,
 "nbformat_minor": 2
}
