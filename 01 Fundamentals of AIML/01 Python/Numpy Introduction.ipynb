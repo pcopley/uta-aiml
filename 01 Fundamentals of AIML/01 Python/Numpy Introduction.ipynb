{
 "cells": [
  {
   "cell_type": "code",
   "execution_count": 1,
   "metadata": {},
   "outputs": [],
   "source": [
    "import numpy as np"
   ]
  },
  {
   "cell_type": "code",
   "execution_count": 2,
   "metadata": {},
   "outputs": [
    {
     "name": "stdout",
     "output_type": "stream",
     "text": [
      "-1.0\n",
      "1.1\n",
      "5.2\n"
     ]
    }
   ],
   "source": [
    "print(np.cos(np.pi))\n",
    "print(np.sqrt(1.21))\n",
    "print(np.log(np.exp(5.2)))"
   ]
  },
  {
   "cell_type": "code",
   "execution_count": 3,
   "metadata": {},
   "outputs": [
    {
     "name": "stdout",
     "output_type": "stream",
     "text": [
      "[1 2 3]\n",
      "\n",
      "[[1 2 3]\n",
      " [4 5 6]\n",
      " [1 8 9]]\n",
      "\n",
      "[[1 4 1]\n",
      " [2 5 8]\n",
      " [3 6 9]]\n"
     ]
    }
   ],
   "source": [
    "# we can create np arrays by converting lists\n",
    "# vector\n",
    "vec = np.array([1,2,3])\n",
    "print(vec)\n",
    "\n",
    "# we can create matrices by converting lists of lists\n",
    "mat = np.array([[1,2,3],[4,5,6],[1,8,9]])\n",
    "print('')\n",
    "print(mat)\n",
    "print('')\n",
    "print(mat.T)"
   ]
  },
  {
   "cell_type": "code",
   "execution_count": 4,
   "metadata": {},
   "outputs": [
    {
     "name": "stdout",
     "output_type": "stream",
     "text": [
      "[ 0  1  2  3  4  5  6  7  8  9 10 11 12 13 14]\n",
      "\n",
      "[ 3  9 15]\n"
     ]
    }
   ],
   "source": [
    "vec2 = np.arange(0,15)\n",
    "print(vec2)\n",
    "print('')\n",
    "vec3 = np.arange(3,21,6)\n",
    "print(vec3)"
   ]
  },
  {
   "cell_type": "code",
   "execution_count": 5,
   "metadata": {},
   "outputs": [
    {
     "name": "stdout",
     "output_type": "stream",
     "text": [
      "[0.         0.55555556 1.11111111 1.66666667 2.22222222 2.77777778\n",
      " 3.33333333 3.88888889 4.44444444 5.        ]\n",
      "\n",
      "[[0.         0.55555556]\n",
      " [1.11111111 1.66666667]\n",
      " [2.22222222 2.77777778]\n",
      " [3.33333333 3.88888889]\n",
      " [4.44444444 5.        ]]\n"
     ]
    }
   ],
   "source": [
    "vec4 = np.linspace(0,5,10)\n",
    "print(vec4)\n",
    "print('')\n",
    "print(vec4.reshape(5,2))"
   ]
  },
  {
   "cell_type": "code",
   "execution_count": 6,
   "metadata": {},
   "outputs": [
    {
     "name": "stdout",
     "output_type": "stream",
     "text": [
      "[[0. 0. 0.]\n",
      " [0. 0. 0.]\n",
      " [0. 0. 0.]\n",
      " [0. 0. 0.]\n",
      " [0. 0. 0.]]\n",
      "\n",
      "[[1. 1. 1. 1. 1.]\n",
      " [1. 1. 1. 1. 1.]\n",
      " [1. 1. 1. 1. 1.]]\n",
      "\n",
      "[[1. 0. 0. 0. 0.]\n",
      " [0. 1. 0. 0. 0.]\n",
      " [0. 0. 1. 0. 0.]\n",
      " [0. 0. 0. 1. 0.]\n",
      " [0. 0. 0. 0. 1.]]\n"
     ]
    }
   ],
   "source": [
    "mat2 = np.zeros([5,3])\n",
    "print(mat2)\n",
    "print('')\n",
    "mat3 = np.ones((3,5))\n",
    "print(mat3)\n",
    "print('')\n",
    "mat4 = np.eye(5)\n",
    "print(mat4)"
   ]
  },
  {
   "cell_type": "code",
   "execution_count": 7,
   "metadata": {},
   "outputs": [
    {
     "name": "stdout",
     "output_type": "stream",
     "text": [
      "[1 2 3 4 5]\n",
      "[3 4 5 6 7]\n",
      "[ 4  6  8 10 12]\n",
      "[ 3  8 15 24 35]\n",
      "[1.         0.5        0.33333333 0.25       0.2       ]\n",
      "[1.73205081 2.         2.23606798 2.44948974 2.64575131]\n"
     ]
    }
   ],
   "source": [
    "vec5 = np.arange(1,6)\n",
    "vec6 = np.arange(3,8)\n",
    "print(vec5)\n",
    "print(vec6)\n",
    "print(vec5+vec6)\n",
    "print(vec5*vec6)\n",
    "print(1/vec5)\n",
    "print(np.sqrt(vec6))"
   ]
  },
  {
   "cell_type": "code",
   "execution_count": 8,
   "metadata": {},
   "outputs": [
    {
     "name": "stdout",
     "output_type": "stream",
     "text": [
      "[[1 2 3]\n",
      " [4 5 6]\n",
      " [1 8 9]]\n",
      "\n",
      "[1 2 3]\n",
      "\n",
      "[14 32 44]\n"
     ]
    }
   ],
   "source": [
    "print(mat)\n",
    "print('')\n",
    "print(vec)\n",
    "print()\n",
    "product = np.matmul(mat, vec)\n",
    "print(product)"
   ]
  },
  {
   "cell_type": "code",
   "execution_count": 9,
   "metadata": {},
   "outputs": [
    {
     "name": "stdout",
     "output_type": "stream",
     "text": [
      "[1. 2. 3.]\n",
      "\n",
      "[[-0.16666667  0.33333333 -0.16666667]\n",
      " [-1.66666667  0.33333333  0.33333333]\n",
      " [ 1.5        -0.33333333 -0.16666667]]\n"
     ]
    }
   ],
   "source": [
    "print(np.linalg.solve(mat,product))\n",
    "print('')\n",
    "print(np.linalg.inv(mat))"
   ]
  },
  {
   "cell_type": "code",
   "execution_count": 10,
   "metadata": {},
   "outputs": [
    {
     "name": "stdout",
     "output_type": "stream",
     "text": [
      "['blue' 'red' 'orange' 'purple' 'purple' 'orange' 'Red' '6']\n",
      "['6' 'Red' 'blue' 'orange' 'purple' 'red']\n"
     ]
    }
   ],
   "source": [
    "vec7 = np.array(['blue', 'red', 'orange', 'purple', 'purple', 'orange', 'Red', 6])\n",
    "print(vec7)\n",
    "print(np.unique(vec7))"
   ]
  },
  {
   "cell_type": "code",
   "execution_count": 11,
   "metadata": {},
   "outputs": [
    {
     "name": "stdout",
     "output_type": "stream",
     "text": [
      "[[0.77265171 0.60747573 0.53556253 0.61206352 0.11150519]\n",
      " [0.93998709 0.06420884 0.46366609 0.04034026 0.29911152]\n",
      " [0.37139053 0.41939333 0.67472785 0.28135302 0.23433466]\n",
      " [0.60963644 0.7802665  0.26235452 0.58970555 0.21296957]\n",
      " [0.70029155 0.58594458 0.03844055 0.98229598 0.29920263]]\n",
      "\n",
      "[[ 0.33958841 -0.06601247 -1.13340416  0.743269   -1.30964004]\n",
      " [-0.37668969  0.29880201 -1.9713231  -1.01842541  0.98361468]\n",
      " [-2.10604481 -1.91299814 -0.25397909 -1.003978    0.91369992]\n",
      " [-0.06278561 -1.00646037 -0.42472023 -0.79225465 -1.25764093]\n",
      " [ 0.64125073 -0.93661352 -0.29281324  0.28673217  0.07376983]\n",
      " [ 0.06933179 -0.37129732  0.37680153  0.73910838 -0.67933488]\n",
      " [ 0.7110616   1.12340036  0.00436613 -1.51744729 -0.79544902]\n",
      " [-2.43873424 -1.43006841  0.82098575 -0.62478957 -0.75205833]\n",
      " [ 1.63176557 -1.58075099 -1.16782365  0.79536169  0.1657827 ]\n",
      " [-0.42510129 -0.71938191 -0.11986081  1.05077753  0.81167111]]\n"
     ]
    }
   ],
   "source": [
    "rand_mat = np.random.rand(5,5)\n",
    "print(rand_mat)\n",
    "rand_mat2 = np.random.randn(10,5)\n",
    "print('')\n",
    "print(rand_mat2)"
   ]
  },
  {
   "cell_type": "code",
   "execution_count": 12,
   "metadata": {},
   "outputs": [
    {
     "name": "stdout",
     "output_type": "stream",
     "text": [
      "0.4595551888131147\n",
      "0.947045168975231\n"
     ]
    }
   ],
   "source": [
    "print(np.mean(rand_mat))\n",
    "print(np.std(rand_mat2))"
   ]
  },
  {
   "cell_type": "code",
   "execution_count": 13,
   "metadata": {},
   "outputs": [
    {
     "name": "stdout",
     "output_type": "stream",
     "text": [
      "0.038440546362056294\n",
      "1.6317655713050034\n"
     ]
    }
   ],
   "source": [
    "print(np.min(rand_mat))\n",
    "print(np.max(rand_mat2))"
   ]
  },
  {
   "cell_type": "code",
   "execution_count": 14,
   "metadata": {},
   "outputs": [
    {
     "name": "stdout",
     "output_type": "stream",
     "text": [
      "[ 1.23160618  1.62024452  0.39051251 -1.23714799  3.35131007 -0.44571868\n",
      " -0.2710108  -1.87894188  0.33934487 -1.27916971  0.23060204  0.10232483\n",
      " -1.45051988  1.85261594 -0.20932746  0.92727494  1.08348497  0.26847031\n",
      " -1.58593974]\n",
      "-0.271010799054689\n"
     ]
    }
   ],
   "source": [
    "rand_vec = np.random.randn(19)\n",
    "print(rand_vec)\n",
    "print(rand_vec[6])"
   ]
  },
  {
   "cell_type": "code",
   "execution_count": 15,
   "metadata": {},
   "outputs": [
    {
     "name": "stdout",
     "output_type": "stream",
     "text": [
      "[ 3.35131007 -0.44571868 -0.2710108  -1.87894188  0.33934487]\n"
     ]
    }
   ],
   "source": [
    "print(rand_vec[4:9])"
   ]
  },
  {
   "cell_type": "code",
   "execution_count": 16,
   "metadata": {},
   "outputs": [
    {
     "name": "stdout",
     "output_type": "stream",
     "text": [
      "[ 0  3  6  9 12]\n",
      "[ 1.23160618 -1.23714799 -0.2710108  -1.27916971 -1.45051988]\n"
     ]
    }
   ],
   "source": [
    "print(np.arange(0,15,3))\n",
    "print(rand_vec[np.arange(0,15,3)])"
   ]
  },
  {
   "cell_type": "code",
   "execution_count": 17,
   "metadata": {},
   "outputs": [
    {
     "name": "stdout",
     "output_type": "stream",
     "text": [
      "[[0.77265171 0.60747573 0.53556253 0.61206352 0.11150519]\n",
      " [0.93998709 0.06420884 0.46366609 0.04034026 0.29911152]\n",
      " [0.37139053 0.41939333 0.67472785 0.28135302 0.23433466]\n",
      " [0.60963644 0.7802665  0.26235452 0.58970555 0.21296957]\n",
      " [0.70029155 0.58594458 0.03844055 0.98229598 0.29920263]]\n",
      "0.4636660862499805\n",
      "0.4636660862499805\n"
     ]
    }
   ],
   "source": [
    "print(rand_mat)\n",
    "print(rand_mat[1][2])\n",
    "print(rand_mat[1,2])"
   ]
  },
  {
   "cell_type": "code",
   "execution_count": 18,
   "metadata": {},
   "outputs": [
    {
     "name": "stdout",
     "output_type": "stream",
     "text": [
      "[[0.60747573 0.53556253]\n",
      " [0.06420884 0.46366609]]\n"
     ]
    }
   ],
   "source": [
    "print(rand_mat[0:2,1:3])"
   ]
  },
  {
   "cell_type": "code",
   "execution_count": 19,
   "metadata": {},
   "outputs": [
    {
     "name": "stdout",
     "output_type": "stream",
     "text": [
      "[ 1.23160618  1.62024452  0.39051251 -1.23714799  3.35131007 -0.44571868\n",
      " -0.2710108  -1.87894188  0.33934487 -1.27916971  0.23060204  0.10232483\n",
      " -1.45051988  1.85261594 -0.20932746  0.92727494  1.08348497  0.26847031\n",
      " -1.58593974]\n",
      "\n",
      "[ 1.23160618  1.62024452  0.39051251  4.          4.         -0.44571868\n",
      " -0.2710108  -1.87894188  0.33934487 -1.27916971  0.23060204  0.10232483\n",
      " -1.45051988  1.85261594 -0.20932746  0.92727494  1.08348497  0.26847031\n",
      " -1.58593974]\n",
      "\n",
      "[ 1.23160618  1.62024452  0.39051251  1.          2.         -0.44571868\n",
      " -0.2710108  -1.87894188  0.33934487 -1.27916971  0.23060204  0.10232483\n",
      " -1.45051988  1.85261594 -0.20932746  0.92727494  1.08348497  0.26847031\n",
      " -1.58593974]\n"
     ]
    }
   ],
   "source": [
    "print(rand_vec)\n",
    "rand_vec[3:5] = 4\n",
    "print('')\n",
    "print(rand_vec)\n",
    "rand_vec[3:5] = [1,2]\n",
    "print('')\n",
    "print(rand_vec)"
   ]
  },
  {
   "cell_type": "code",
   "execution_count": 20,
   "metadata": {},
   "outputs": [
    {
     "name": "stdout",
     "output_type": "stream",
     "text": [
      "[[0.77265171 0.60747573 0.53556253 0.61206352 0.11150519]\n",
      " [0.93998709 0.06420884 0.46366609 0.04034026 0.29911152]\n",
      " [0.37139053 0.41939333 0.67472785 0.28135302 0.23433466]\n",
      " [0.60963644 0.7802665  0.26235452 0.58970555 0.21296957]\n",
      " [0.70029155 0.58594458 0.03844055 0.98229598 0.29920263]]\n",
      "\n",
      "[[0.77265171 0.60747573 0.53556253 0.61206352 0.11150519]\n",
      " [0.93998709 0.06420884 0.46366609 0.         0.        ]\n",
      " [0.37139053 0.41939333 0.67472785 0.         0.        ]\n",
      " [0.60963644 0.7802665  0.26235452 0.58970555 0.21296957]\n",
      " [0.70029155 0.58594458 0.03844055 0.98229598 0.29920263]]\n"
     ]
    }
   ],
   "source": [
    "print(rand_mat)\n",
    "rand_mat[1:3,3:5] = 0\n",
    "print('')\n",
    "print(rand_mat)"
   ]
  },
  {
   "cell_type": "code",
   "execution_count": 21,
   "metadata": {},
   "outputs": [
    {
     "name": "stdout",
     "output_type": "stream",
     "text": [
      "[[0.77265171 0.60747573 0.53556253]\n",
      " [0.93998709 0.06420884 0.46366609]]\n",
      "[[3. 3. 3.]\n",
      " [3. 3. 3.]]\n"
     ]
    }
   ],
   "source": [
    "sub_mat = rand_mat[0:2,0:3]\n",
    "print(sub_mat)\n",
    "sub_mat[:] = 3\n",
    "print(sub_mat)"
   ]
  },
  {
   "cell_type": "code",
   "execution_count": 22,
   "metadata": {},
   "outputs": [
    {
     "name": "stdout",
     "output_type": "stream",
     "text": [
      "[[3.         3.         3.         0.61206352 0.11150519]\n",
      " [3.         3.         3.         0.         0.        ]\n",
      " [0.37139053 0.41939333 0.67472785 0.         0.        ]\n",
      " [0.60963644 0.7802665  0.26235452 0.58970555 0.21296957]\n",
      " [0.70029155 0.58594458 0.03844055 0.98229598 0.29920263]]\n"
     ]
    }
   ],
   "source": [
    "print(rand_mat)"
   ]
  },
  {
   "cell_type": "code",
   "execution_count": 23,
   "metadata": {},
   "outputs": [
    {
     "name": "stdout",
     "output_type": "stream",
     "text": [
      "[[99. 99. 99.]\n",
      " [99. 99. 99.]]\n",
      "[[3.         3.         3.         0.61206352 0.11150519]\n",
      " [3.         3.         3.         0.         0.        ]\n",
      " [0.37139053 0.41939333 0.67472785 0.         0.        ]\n",
      " [0.60963644 0.7802665  0.26235452 0.58970555 0.21296957]\n",
      " [0.70029155 0.58594458 0.03844055 0.98229598 0.29920263]]\n"
     ]
    }
   ],
   "source": [
    "sub_mat2 = rand_mat[0:2,0:3].copy()\n",
    "sub_mat2[:] = 99\n",
    "print(sub_mat2)\n",
    "print(rand_mat)"
   ]
  },
  {
   "cell_type": "code",
   "execution_count": 24,
   "metadata": {},
   "outputs": [
    {
     "name": "stdout",
     "output_type": "stream",
     "text": [
      "[-0.28642317 -0.6921171  -0.2522126   0.23260288  0.91931803  0.35747647\n",
      "  0.03687399 -0.45785713 -1.49603119 -0.53905805 -0.6341214  -0.74716529\n",
      " -0.72707068  0.5389661   1.20660198]\n",
      "[False False False  True  True  True  True False False False False False\n",
      " False  True  True]\n",
      "[0.23260288 0.91931803 0.35747647 0.03687399 0.5389661  1.20660198]\n"
     ]
    }
   ],
   "source": [
    "rand_vec = np.random.randn(15)\n",
    "print(rand_vec)\n",
    "print(rand_vec>0)\n",
    "print(rand_vec[rand_vec>0])"
   ]
  },
  {
   "cell_type": "code",
   "execution_count": 25,
   "metadata": {},
   "outputs": [
    {
     "name": "stdout",
     "output_type": "stream",
     "text": [
      "[[ 0.33958841 -0.06601247 -1.13340416  0.743269   -1.30964004]\n",
      " [-0.37668969  0.29880201 -1.9713231  -1.01842541  0.98361468]\n",
      " [-2.10604481 -1.91299814 -0.25397909 -1.003978    0.91369992]\n",
      " [-0.06278561 -1.00646037 -0.42472023 -0.79225465 -1.25764093]\n",
      " [ 0.64125073 -0.93661352 -0.29281324  0.28673217  0.07376983]\n",
      " [ 0.06933179 -0.37129732  0.37680153  0.73910838 -0.67933488]\n",
      " [ 0.7110616   1.12340036  0.00436613 -1.51744729 -0.79544902]\n",
      " [-2.43873424 -1.43006841  0.82098575 -0.62478957 -0.75205833]\n",
      " [ 1.63176557 -1.58075099 -1.16782365  0.79536169  0.1657827 ]\n",
      " [-0.42510129 -0.71938191 -0.11986081  1.05077753  0.81167111]]\n",
      "[0.33958841 0.743269   0.29880201 0.98361468 0.91369992 0.64125073\n",
      " 0.28673217 0.07376983 0.06933179 0.37680153 0.73910838 0.7110616\n",
      " 1.12340036 0.00436613 0.82098575 1.63176557 0.79536169 0.1657827\n",
      " 1.05077753 0.81167111]\n"
     ]
    }
   ],
   "source": [
    "print(rand_mat2)\n",
    "print(rand_mat2[rand_mat2>0])"
   ]
  },
  {
   "cell_type": "code",
   "execution_count": 26,
   "metadata": {},
   "outputs": [
    {
     "name": "stdout",
     "output_type": "stream",
     "text": [
      "[-0.28642317 -0.6921171  -0.2522126   0.23260288  0.91931803  0.35747647\n",
      "  0.03687399 -0.45785713 -1.49603119 -0.53905805 -0.6341214  -0.74716529\n",
      " -0.72707068  0.5389661   1.20660198]\n",
      "\n",
      "[-0.28642317 -0.6921171  -0.2522126   0.23260288 -5.          0.35747647\n",
      "  0.03687399 -0.45785713 -1.49603119 -0.53905805 -0.6341214  -0.74716529\n",
      " -0.72707068 -5.         -5.        ]\n"
     ]
    }
   ],
   "source": [
    "print(rand_vec)\n",
    "print('')\n",
    "rand_vec[rand_vec>.5] = -5\n",
    "print(rand_vec)"
   ]
  },
  {
   "cell_type": "code",
   "execution_count": 27,
   "metadata": {},
   "outputs": [],
   "source": [
    "np.save('saved_file_name', rand_mat2)"
   ]
  },
  {
   "cell_type": "code",
   "execution_count": 28,
   "metadata": {},
   "outputs": [],
   "source": [
    "np.savez('zipped_filed_name', rand_mat=rand_mat, rand_mat2=rand_mat2)"
   ]
  },
  {
   "cell_type": "code",
   "execution_count": 31,
   "metadata": {},
   "outputs": [
    {
     "name": "stdout",
     "output_type": "stream",
     "text": [
      "[[ 0.33958841 -0.06601247 -1.13340416  0.743269   -1.30964004]\n",
      " [-0.37668969  0.29880201 -1.9713231  -1.01842541  0.98361468]\n",
      " [-2.10604481 -1.91299814 -0.25397909 -1.003978    0.91369992]\n",
      " [-0.06278561 -1.00646037 -0.42472023 -0.79225465 -1.25764093]\n",
      " [ 0.64125073 -0.93661352 -0.29281324  0.28673217  0.07376983]\n",
      " [ 0.06933179 -0.37129732  0.37680153  0.73910838 -0.67933488]\n",
      " [ 0.7110616   1.12340036  0.00436613 -1.51744729 -0.79544902]\n",
      " [-2.43873424 -1.43006841  0.82098575 -0.62478957 -0.75205833]\n",
      " [ 1.63176557 -1.58075099 -1.16782365  0.79536169  0.1657827 ]\n",
      " [-0.42510129 -0.71938191 -0.11986081  1.05077753  0.81167111]]\n",
      "\n",
      "<numpy.lib.npyio.NpzFile object at 0x7f9c603a4640>\n"
     ]
    }
   ],
   "source": [
    "loaded_vec = np.load('saved_file_name.npy')\n",
    "loaded_zip = np.load('zipped_filed_name.npz')\n",
    "\n",
    "print(loaded_vec)\n",
    "print('')\n",
    "print(loaded_zip)"
   ]
  },
  {
   "cell_type": "code",
   "execution_count": 32,
   "metadata": {},
   "outputs": [
    {
     "name": "stdout",
     "output_type": "stream",
     "text": [
      "[[3.         3.         3.         0.61206352 0.11150519]\n",
      " [3.         3.         3.         0.         0.        ]\n",
      " [0.37139053 0.41939333 0.67472785 0.         0.        ]\n",
      " [0.60963644 0.7802665  0.26235452 0.58970555 0.21296957]\n",
      " [0.70029155 0.58594458 0.03844055 0.98229598 0.29920263]]\n",
      "\n",
      "[[ 0.33958841 -0.06601247 -1.13340416  0.743269   -1.30964004]\n",
      " [-0.37668969  0.29880201 -1.9713231  -1.01842541  0.98361468]\n",
      " [-2.10604481 -1.91299814 -0.25397909 -1.003978    0.91369992]\n",
      " [-0.06278561 -1.00646037 -0.42472023 -0.79225465 -1.25764093]\n",
      " [ 0.64125073 -0.93661352 -0.29281324  0.28673217  0.07376983]\n",
      " [ 0.06933179 -0.37129732  0.37680153  0.73910838 -0.67933488]\n",
      " [ 0.7110616   1.12340036  0.00436613 -1.51744729 -0.79544902]\n",
      " [-2.43873424 -1.43006841  0.82098575 -0.62478957 -0.75205833]\n",
      " [ 1.63176557 -1.58075099 -1.16782365  0.79536169  0.1657827 ]\n",
      " [-0.42510129 -0.71938191 -0.11986081  1.05077753  0.81167111]]\n"
     ]
    }
   ],
   "source": [
    "print(loaded_zip['rand_mat'])\n",
    "print('')\n",
    "print(loaded_zip['rand_mat2'])"
   ]
  },
  {
   "cell_type": "code",
   "execution_count": 34,
   "metadata": {},
   "outputs": [
    {
     "name": "stdout",
     "output_type": "stream",
     "text": [
      "[[3.         3.         3.         0.61206352 0.11150519]\n",
      " [3.         3.         3.         0.         0.        ]\n",
      " [0.37139053 0.41939333 0.67472785 0.         0.        ]\n",
      " [0.60963644 0.7802665  0.26235452 0.58970555 0.21296957]\n",
      " [0.70029155 0.58594458 0.03844055 0.98229598 0.29920263]]\n",
      "\n",
      "[[3.         3.         3.         0.61206352 0.11150519]\n",
      " [3.         3.         3.         0.         0.        ]\n",
      " [0.37139053 0.41939333 0.67472785 0.         0.        ]\n",
      " [0.60963644 0.7802665  0.26235452 0.58970555 0.21296957]\n",
      " [0.70029155 0.58594458 0.03844055 0.98229598 0.29920263]]\n"
     ]
    }
   ],
   "source": [
    "np.savetxt('text_file_name.txt', rand_mat, delimiter=',')\n",
    "rand_mat_txt = np.loadtxt('text_file_name.txt', delimiter=',')\n",
    "\n",
    "print(rand_mat)\n",
    "print('')\n",
    "print(rand_mat_txt)"
   ]
  },
  {
   "cell_type": "code",
   "execution_count": null,
   "metadata": {},
   "outputs": [],
   "source": []
  }
 ],
 "metadata": {
  "kernelspec": {
   "display_name": "Python 3",
   "language": "python",
   "name": "python3"
  },
  "language_info": {
   "codemirror_mode": {
    "name": "ipython",
    "version": 3
   },
   "file_extension": ".py",
   "mimetype": "text/x-python",
   "name": "python",
   "nbconvert_exporter": "python",
   "pygments_lexer": "ipython3",
   "version": "3.8.3"
  }
 },
 "nbformat": 4,
 "nbformat_minor": 4
}
