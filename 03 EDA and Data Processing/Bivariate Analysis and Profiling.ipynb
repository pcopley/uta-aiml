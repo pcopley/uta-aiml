{
 "cells": [
  {
   "cell_type": "markdown",
   "metadata": {},
   "source": [
    "# Bivariate Analysis\n",
    "Through bivariate analysis, we try to analyze two variables simultaneously, and see if there is any relationship between them.\n",
    "\n",
    "There are three possibilities when completing bivariate analysis, and different plot options for each:\n",
    "\n",
    "*Numerical v. Numerical*\n",
    "\n",
    "1. Scatter plot\n",
    "2. Line plot\n",
    "3. Heat map\n",
    "4. Joint plot\n",
    "\n",
    "*Categorical v. Numerical*\n",
    "\n",
    "1. Bar chart\n",
    "2. Violin plot\n",
    "3. Categorical box plot\n",
    "4. Swarm plot\n",
    "\n",
    "*Categorical v. Categorical*\n",
    "\n",
    "1. Bar chart\n",
    "2. Grouped bar chart\n",
    "3. Point plot\n",
    "\n",
    "## Case Study\n",
    "*Suicide rates overview 1985-2016*"
   ]
  },
  {
   "cell_type": "code",
   "execution_count": null,
   "metadata": {},
   "outputs": [],
   "source": []
  }
 ],
 "metadata": {
  "kernelspec": {
   "display_name": "Python 3",
   "language": "python",
   "name": "python3"
  },
  "language_info": {
   "codemirror_mode": {
    "name": "ipython",
    "version": 3
   },
   "file_extension": ".py",
   "mimetype": "text/x-python",
   "name": "python",
   "nbconvert_exporter": "python",
   "pygments_lexer": "ipython3",
   "version": "3.8.3"
  }
 },
 "nbformat": 4,
 "nbformat_minor": 4
}
