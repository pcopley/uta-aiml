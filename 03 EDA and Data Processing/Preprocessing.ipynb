{
 "cells": [
  {
   "cell_type": "markdown",
   "metadata": {},
   "source": [
    "# Preprocessing Data\n",
    "## Dealing with missing values"
   ]
  },
  {
   "cell_type": "code",
   "execution_count": 1,
   "metadata": {},
   "outputs": [],
   "source": [
    "import numpy as pd\n",
    "import pandas as pd\n",
    "import seaborn as sns\n",
    "import matplotlib.pyplot as plt"
   ]
  },
  {
   "cell_type": "code",
   "execution_count": 2,
   "metadata": {},
   "outputs": [
    {
     "data": {
      "text/html": [
       "<div>\n",
       "<style scoped>\n",
       "    .dataframe tbody tr th:only-of-type {\n",
       "        vertical-align: middle;\n",
       "    }\n",
       "\n",
       "    .dataframe tbody tr th {\n",
       "        vertical-align: top;\n",
       "    }\n",
       "\n",
       "    .dataframe thead th {\n",
       "        text-align: right;\n",
       "    }\n",
       "</style>\n",
       "<table border=\"1\" class=\"dataframe\">\n",
       "  <thead>\n",
       "    <tr style=\"text-align: right;\">\n",
       "      <th></th>\n",
       "      <th>Number</th>\n",
       "      <th>City</th>\n",
       "      <th>Colors Reported</th>\n",
       "      <th>Shape Reported</th>\n",
       "      <th>State</th>\n",
       "      <th>Time</th>\n",
       "    </tr>\n",
       "  </thead>\n",
       "  <tbody>\n",
       "    <tr>\n",
       "      <th>0</th>\n",
       "      <td>123456.0</td>\n",
       "      <td>Ithaca</td>\n",
       "      <td>NaN</td>\n",
       "      <td>TRIANGLE</td>\n",
       "      <td>NY</td>\n",
       "      <td>6/1/1930 22:00</td>\n",
       "    </tr>\n",
       "    <tr>\n",
       "      <th>1</th>\n",
       "      <td>54321.0</td>\n",
       "      <td>Willingboro</td>\n",
       "      <td>green</td>\n",
       "      <td>NaN</td>\n",
       "      <td>NJ</td>\n",
       "      <td>6/30/1930 20:00</td>\n",
       "    </tr>\n",
       "    <tr>\n",
       "      <th>2</th>\n",
       "      <td>87654.0</td>\n",
       "      <td>Holyoke</td>\n",
       "      <td>NaN</td>\n",
       "      <td>OVAL</td>\n",
       "      <td>CO</td>\n",
       "      <td>2/15/1931 14:00</td>\n",
       "    </tr>\n",
       "    <tr>\n",
       "      <th>3</th>\n",
       "      <td>3456.0</td>\n",
       "      <td>Abilene</td>\n",
       "      <td>blue</td>\n",
       "      <td>DISK</td>\n",
       "      <td>KS</td>\n",
       "      <td>1/12/1900 0:00</td>\n",
       "    </tr>\n",
       "    <tr>\n",
       "      <th>4</th>\n",
       "      <td>7654.0</td>\n",
       "      <td>New York Worlds Fair</td>\n",
       "      <td>NaN</td>\n",
       "      <td>LIGHT</td>\n",
       "      <td>NY</td>\n",
       "      <td>4/18/1933 19:00</td>\n",
       "    </tr>\n",
       "  </tbody>\n",
       "</table>\n",
       "</div>"
      ],
      "text/plain": [
       "     Number                  City Colors Reported Shape Reported State  \\\n",
       "0  123456.0                Ithaca             NaN       TRIANGLE    NY   \n",
       "1   54321.0           Willingboro           green            NaN    NJ   \n",
       "2   87654.0               Holyoke             NaN           OVAL    CO   \n",
       "3    3456.0               Abilene            blue           DISK    KS   \n",
       "4    7654.0  New York Worlds Fair             NaN          LIGHT    NY   \n",
       "\n",
       "              Time  \n",
       "0   6/1/1930 22:00  \n",
       "1  6/30/1930 20:00  \n",
       "2  2/15/1931 14:00  \n",
       "3   1/12/1900 0:00  \n",
       "4  4/18/1933 19:00  "
      ]
     },
     "execution_count": 2,
     "metadata": {},
     "output_type": "execute_result"
    }
   ],
   "source": [
    "data = pd.read_csv('data.csv')\n",
    "data.head()"
   ]
  },
  {
   "cell_type": "code",
   "execution_count": 3,
   "metadata": {},
   "outputs": [
    {
     "data": {
      "text/plain": [
       "13"
      ]
     },
     "execution_count": 3,
     "metadata": {},
     "output_type": "execute_result"
    }
   ],
   "source": [
    "dupes = data.duplicated()\n",
    "sum(dupes)"
   ]
  },
  {
   "cell_type": "code",
   "execution_count": 4,
   "metadata": {},
   "outputs": [],
   "source": [
    "data = data.drop_duplicates()"
   ]
  },
  {
   "cell_type": "code",
   "execution_count": 5,
   "metadata": {},
   "outputs": [
    {
     "data": {
      "text/plain": [
       "0"
      ]
     },
     "execution_count": 5,
     "metadata": {},
     "output_type": "execute_result"
    }
   ],
   "source": [
    "dupes = data.duplicated()\n",
    "sum(dupes)"
   ]
  },
  {
   "cell_type": "code",
   "execution_count": 7,
   "metadata": {},
   "outputs": [
    {
     "data": {
      "text/html": [
       "<div>\n",
       "<style scoped>\n",
       "    .dataframe tbody tr th:only-of-type {\n",
       "        vertical-align: middle;\n",
       "    }\n",
       "\n",
       "    .dataframe tbody tr th {\n",
       "        vertical-align: top;\n",
       "    }\n",
       "\n",
       "    .dataframe thead th {\n",
       "        text-align: right;\n",
       "    }\n",
       "</style>\n",
       "<table border=\"1\" class=\"dataframe\">\n",
       "  <thead>\n",
       "    <tr style=\"text-align: right;\">\n",
       "      <th></th>\n",
       "      <th>value</th>\n",
       "      <th>Missing?</th>\n",
       "    </tr>\n",
       "  </thead>\n",
       "  <tbody>\n",
       "    <tr>\n",
       "      <th>0</th>\n",
       "      <td>123456.0</td>\n",
       "      <td>False</td>\n",
       "    </tr>\n",
       "    <tr>\n",
       "      <th>1</th>\n",
       "      <td>54321.0</td>\n",
       "      <td>False</td>\n",
       "    </tr>\n",
       "    <tr>\n",
       "      <th>2</th>\n",
       "      <td>87654.0</td>\n",
       "      <td>False</td>\n",
       "    </tr>\n",
       "    <tr>\n",
       "      <th>3</th>\n",
       "      <td>3456.0</td>\n",
       "      <td>False</td>\n",
       "    </tr>\n",
       "    <tr>\n",
       "      <th>4</th>\n",
       "      <td>7654.0</td>\n",
       "      <td>False</td>\n",
       "    </tr>\n",
       "    <tr>\n",
       "      <th>5</th>\n",
       "      <td>NaN</td>\n",
       "      <td>True</td>\n",
       "    </tr>\n",
       "    <tr>\n",
       "      <th>6</th>\n",
       "      <td>87654.0</td>\n",
       "      <td>False</td>\n",
       "    </tr>\n",
       "    <tr>\n",
       "      <th>7</th>\n",
       "      <td>6789.0</td>\n",
       "      <td>False</td>\n",
       "    </tr>\n",
       "    <tr>\n",
       "      <th>8</th>\n",
       "      <td>NaN</td>\n",
       "      <td>True</td>\n",
       "    </tr>\n",
       "    <tr>\n",
       "      <th>9</th>\n",
       "      <td>4567.0</td>\n",
       "      <td>False</td>\n",
       "    </tr>\n",
       "    <tr>\n",
       "      <th>10</th>\n",
       "      <td>7654.0</td>\n",
       "      <td>False</td>\n",
       "    </tr>\n",
       "    <tr>\n",
       "      <th>11</th>\n",
       "      <td>NaN</td>\n",
       "      <td>True</td>\n",
       "    </tr>\n",
       "    <tr>\n",
       "      <th>12</th>\n",
       "      <td>6543.0</td>\n",
       "      <td>False</td>\n",
       "    </tr>\n",
       "    <tr>\n",
       "      <th>13</th>\n",
       "      <td>876.0</td>\n",
       "      <td>False</td>\n",
       "    </tr>\n",
       "    <tr>\n",
       "      <th>14</th>\n",
       "      <td>5432.0</td>\n",
       "      <td>False</td>\n",
       "    </tr>\n",
       "    <tr>\n",
       "      <th>19</th>\n",
       "      <td>6543.0</td>\n",
       "      <td>False</td>\n",
       "    </tr>\n",
       "    <tr>\n",
       "      <th>20</th>\n",
       "      <td>876.0</td>\n",
       "      <td>False</td>\n",
       "    </tr>\n",
       "    <tr>\n",
       "      <th>21</th>\n",
       "      <td>5432.0</td>\n",
       "      <td>False</td>\n",
       "    </tr>\n",
       "  </tbody>\n",
       "</table>\n",
       "</div>"
      ],
      "text/plain": [
       "       value  Missing?\n",
       "0   123456.0     False\n",
       "1    54321.0     False\n",
       "2    87654.0     False\n",
       "3     3456.0     False\n",
       "4     7654.0     False\n",
       "5        NaN      True\n",
       "6    87654.0     False\n",
       "7     6789.0     False\n",
       "8        NaN      True\n",
       "9     4567.0     False\n",
       "10    7654.0     False\n",
       "11       NaN      True\n",
       "12    6543.0     False\n",
       "13     876.0     False\n",
       "14    5432.0     False\n",
       "19    6543.0     False\n",
       "20     876.0     False\n",
       "21    5432.0     False"
      ]
     },
     "execution_count": 7,
     "metadata": {},
     "output_type": "execute_result"
    }
   ],
   "source": [
    "pd.DataFrame({'value': data['Number'], 'Missing?' : data['Number'].isnull()})"
   ]
  },
  {
   "cell_type": "markdown",
   "metadata": {},
   "source": [
    "### Non-standard missing values"
   ]
  },
  {
   "cell_type": "code",
   "execution_count": 9,
   "metadata": {},
   "outputs": [
    {
     "data": {
      "text/html": [
       "<div>\n",
       "<style scoped>\n",
       "    .dataframe tbody tr th:only-of-type {\n",
       "        vertical-align: middle;\n",
       "    }\n",
       "\n",
       "    .dataframe tbody tr th {\n",
       "        vertical-align: top;\n",
       "    }\n",
       "\n",
       "    .dataframe thead th {\n",
       "        text-align: right;\n",
       "    }\n",
       "</style>\n",
       "<table border=\"1\" class=\"dataframe\">\n",
       "  <thead>\n",
       "    <tr style=\"text-align: right;\">\n",
       "      <th></th>\n",
       "      <th>value</th>\n",
       "      <th>Missing?</th>\n",
       "    </tr>\n",
       "  </thead>\n",
       "  <tbody>\n",
       "    <tr>\n",
       "      <th>0</th>\n",
       "      <td>TRIANGLE</td>\n",
       "      <td>False</td>\n",
       "    </tr>\n",
       "    <tr>\n",
       "      <th>1</th>\n",
       "      <td>NaN</td>\n",
       "      <td>True</td>\n",
       "    </tr>\n",
       "    <tr>\n",
       "      <th>2</th>\n",
       "      <td>OVAL</td>\n",
       "      <td>False</td>\n",
       "    </tr>\n",
       "    <tr>\n",
       "      <th>3</th>\n",
       "      <td>DISK</td>\n",
       "      <td>False</td>\n",
       "    </tr>\n",
       "    <tr>\n",
       "      <th>4</th>\n",
       "      <td>LIGHT</td>\n",
       "      <td>False</td>\n",
       "    </tr>\n",
       "    <tr>\n",
       "      <th>5</th>\n",
       "      <td>NaN</td>\n",
       "      <td>True</td>\n",
       "    </tr>\n",
       "    <tr>\n",
       "      <th>6</th>\n",
       "      <td>CIRCLE</td>\n",
       "      <td>False</td>\n",
       "    </tr>\n",
       "    <tr>\n",
       "      <th>7</th>\n",
       "      <td>DISK</td>\n",
       "      <td>False</td>\n",
       "    </tr>\n",
       "    <tr>\n",
       "      <th>8</th>\n",
       "      <td>12</td>\n",
       "      <td>False</td>\n",
       "    </tr>\n",
       "    <tr>\n",
       "      <th>9</th>\n",
       "      <td>CYLINDER</td>\n",
       "      <td>False</td>\n",
       "    </tr>\n",
       "    <tr>\n",
       "      <th>10</th>\n",
       "      <td>LIGHT</td>\n",
       "      <td>False</td>\n",
       "    </tr>\n",
       "    <tr>\n",
       "      <th>11</th>\n",
       "      <td>FIREBALL</td>\n",
       "      <td>False</td>\n",
       "    </tr>\n",
       "    <tr>\n",
       "      <th>12</th>\n",
       "      <td>SPHERE</td>\n",
       "      <td>False</td>\n",
       "    </tr>\n",
       "    <tr>\n",
       "      <th>13</th>\n",
       "      <td>@</td>\n",
       "      <td>False</td>\n",
       "    </tr>\n",
       "    <tr>\n",
       "      <th>14</th>\n",
       "      <td>DISK</td>\n",
       "      <td>False</td>\n",
       "    </tr>\n",
       "    <tr>\n",
       "      <th>19</th>\n",
       "      <td>???</td>\n",
       "      <td>False</td>\n",
       "    </tr>\n",
       "    <tr>\n",
       "      <th>20</th>\n",
       "      <td>@</td>\n",
       "      <td>False</td>\n",
       "    </tr>\n",
       "    <tr>\n",
       "      <th>21</th>\n",
       "      <td>DISK</td>\n",
       "      <td>False</td>\n",
       "    </tr>\n",
       "  </tbody>\n",
       "</table>\n",
       "</div>"
      ],
      "text/plain": [
       "       value  Missing?\n",
       "0   TRIANGLE     False\n",
       "1        NaN      True\n",
       "2       OVAL     False\n",
       "3       DISK     False\n",
       "4      LIGHT     False\n",
       "5        NaN      True\n",
       "6     CIRCLE     False\n",
       "7       DISK     False\n",
       "8         12     False\n",
       "9   CYLINDER     False\n",
       "10     LIGHT     False\n",
       "11  FIREBALL     False\n",
       "12    SPHERE     False\n",
       "13         @     False\n",
       "14      DISK     False\n",
       "19       ???     False\n",
       "20         @     False\n",
       "21      DISK     False"
      ]
     },
     "execution_count": 9,
     "metadata": {},
     "output_type": "execute_result"
    }
   ],
   "source": [
    "pd.DataFrame({'value': data[\"Shape Reported\"], 'Missing?' : data['Shape Reported'].isnull()})"
   ]
  },
  {
   "cell_type": "markdown",
   "metadata": {},
   "source": [
    "### Unexpected missing values"
   ]
  },
  {
   "cell_type": "code",
   "execution_count": 10,
   "metadata": {},
   "outputs": [
    {
     "data": {
      "text/html": [
       "<div>\n",
       "<style scoped>\n",
       "    .dataframe tbody tr th:only-of-type {\n",
       "        vertical-align: middle;\n",
       "    }\n",
       "\n",
       "    .dataframe tbody tr th {\n",
       "        vertical-align: top;\n",
       "    }\n",
       "\n",
       "    .dataframe thead th {\n",
       "        text-align: right;\n",
       "    }\n",
       "</style>\n",
       "<table border=\"1\" class=\"dataframe\">\n",
       "  <thead>\n",
       "    <tr style=\"text-align: right;\">\n",
       "      <th></th>\n",
       "      <th>value</th>\n",
       "      <th>Missing?</th>\n",
       "    </tr>\n",
       "  </thead>\n",
       "  <tbody>\n",
       "    <tr>\n",
       "      <th>0</th>\n",
       "      <td>NY</td>\n",
       "      <td>False</td>\n",
       "    </tr>\n",
       "    <tr>\n",
       "      <th>1</th>\n",
       "      <td>NJ</td>\n",
       "      <td>False</td>\n",
       "    </tr>\n",
       "    <tr>\n",
       "      <th>2</th>\n",
       "      <td>CO</td>\n",
       "      <td>False</td>\n",
       "    </tr>\n",
       "    <tr>\n",
       "      <th>3</th>\n",
       "      <td>KS</td>\n",
       "      <td>False</td>\n",
       "    </tr>\n",
       "    <tr>\n",
       "      <th>4</th>\n",
       "      <td>NY</td>\n",
       "      <td>False</td>\n",
       "    </tr>\n",
       "    <tr>\n",
       "      <th>5</th>\n",
       "      <td>N</td>\n",
       "      <td>False</td>\n",
       "    </tr>\n",
       "    <tr>\n",
       "      <th>6</th>\n",
       "      <td>CA</td>\n",
       "      <td>False</td>\n",
       "    </tr>\n",
       "    <tr>\n",
       "      <th>7</th>\n",
       "      <td>MI</td>\n",
       "      <td>False</td>\n",
       "    </tr>\n",
       "    <tr>\n",
       "      <th>8</th>\n",
       "      <td>AK</td>\n",
       "      <td>False</td>\n",
       "    </tr>\n",
       "    <tr>\n",
       "      <th>9</th>\n",
       "      <td>NaN</td>\n",
       "      <td>True</td>\n",
       "    </tr>\n",
       "    <tr>\n",
       "      <th>10</th>\n",
       "      <td>CA</td>\n",
       "      <td>False</td>\n",
       "    </tr>\n",
       "    <tr>\n",
       "      <th>11</th>\n",
       "      <td>AL</td>\n",
       "      <td>False</td>\n",
       "    </tr>\n",
       "    <tr>\n",
       "      <th>12</th>\n",
       "      <td>Y</td>\n",
       "      <td>False</td>\n",
       "    </tr>\n",
       "    <tr>\n",
       "      <th>13</th>\n",
       "      <td>IA</td>\n",
       "      <td>False</td>\n",
       "    </tr>\n",
       "    <tr>\n",
       "      <th>14</th>\n",
       "      <td>MI</td>\n",
       "      <td>False</td>\n",
       "    </tr>\n",
       "    <tr>\n",
       "      <th>19</th>\n",
       "      <td>Y</td>\n",
       "      <td>False</td>\n",
       "    </tr>\n",
       "    <tr>\n",
       "      <th>20</th>\n",
       "      <td>IA</td>\n",
       "      <td>False</td>\n",
       "    </tr>\n",
       "    <tr>\n",
       "      <th>21</th>\n",
       "      <td>MI</td>\n",
       "      <td>False</td>\n",
       "    </tr>\n",
       "  </tbody>\n",
       "</table>\n",
       "</div>"
      ],
      "text/plain": [
       "   value  Missing?\n",
       "0     NY     False\n",
       "1     NJ     False\n",
       "2     CO     False\n",
       "3     KS     False\n",
       "4     NY     False\n",
       "5      N     False\n",
       "6     CA     False\n",
       "7     MI     False\n",
       "8     AK     False\n",
       "9    NaN      True\n",
       "10    CA     False\n",
       "11    AL     False\n",
       "12     Y     False\n",
       "13    IA     False\n",
       "14    MI     False\n",
       "19     Y     False\n",
       "20    IA     False\n",
       "21    MI     False"
      ]
     },
     "execution_count": 10,
     "metadata": {},
     "output_type": "execute_result"
    }
   ],
   "source": [
    "pd.DataFrame({'value':data['State'], 'Missing?' : data['State'].isnull()})"
   ]
  },
  {
   "cell_type": "code",
   "execution_count": 12,
   "metadata": {},
   "outputs": [
    {
     "data": {
      "text/html": [
       "<div>\n",
       "<style scoped>\n",
       "    .dataframe tbody tr th:only-of-type {\n",
       "        vertical-align: middle;\n",
       "    }\n",
       "\n",
       "    .dataframe tbody tr th {\n",
       "        vertical-align: top;\n",
       "    }\n",
       "\n",
       "    .dataframe thead th {\n",
       "        text-align: right;\n",
       "    }\n",
       "</style>\n",
       "<table border=\"1\" class=\"dataframe\">\n",
       "  <thead>\n",
       "    <tr style=\"text-align: right;\">\n",
       "      <th></th>\n",
       "      <th>Number of missing values</th>\n",
       "    </tr>\n",
       "  </thead>\n",
       "  <tbody>\n",
       "    <tr>\n",
       "      <th>Number</th>\n",
       "      <td>3</td>\n",
       "    </tr>\n",
       "    <tr>\n",
       "      <th>City</th>\n",
       "      <td>0</td>\n",
       "    </tr>\n",
       "    <tr>\n",
       "      <th>Colors Reported</th>\n",
       "      <td>9</td>\n",
       "    </tr>\n",
       "    <tr>\n",
       "      <th>Shape Reported</th>\n",
       "      <td>2</td>\n",
       "    </tr>\n",
       "    <tr>\n",
       "      <th>State</th>\n",
       "      <td>1</td>\n",
       "    </tr>\n",
       "    <tr>\n",
       "      <th>Time</th>\n",
       "      <td>0</td>\n",
       "    </tr>\n",
       "  </tbody>\n",
       "</table>\n",
       "</div>"
      ],
      "text/plain": [
       "                 Number of missing values\n",
       "Number                                  3\n",
       "City                                    0\n",
       "Colors Reported                         9\n",
       "Shape Reported                          2\n",
       "State                                   1\n",
       "Time                                    0"
      ]
     },
     "execution_count": 12,
     "metadata": {},
     "output_type": "execute_result"
    }
   ],
   "source": [
    "# number of missing values in each attribute\n",
    "pd.DataFrame(data.isnull().sum(), columns=['Number of missing values'])"
   ]
  },
  {
   "cell_type": "markdown",
   "metadata": {},
   "source": [
    "### Any missing values?"
   ]
  },
  {
   "cell_type": "code",
   "execution_count": 13,
   "metadata": {},
   "outputs": [
    {
     "data": {
      "text/plain": [
       "True"
      ]
     },
     "execution_count": 13,
     "metadata": {},
     "output_type": "execute_result"
    }
   ],
   "source": [
    "data.isnull().values.any()"
   ]
  },
  {
   "cell_type": "markdown",
   "metadata": {},
   "source": [
    "### Total missing values"
   ]
  },
  {
   "cell_type": "code",
   "execution_count": 15,
   "metadata": {},
   "outputs": [
    {
     "data": {
      "text/plain": [
       "15"
      ]
     },
     "execution_count": 15,
     "metadata": {},
     "output_type": "execute_result"
    }
   ],
   "source": [
    "data.isnull().sum().sum()"
   ]
  },
  {
   "cell_type": "markdown",
   "metadata": {},
   "source": [
    "### Replacing missing values"
   ]
  },
  {
   "cell_type": "code",
   "execution_count": 21,
   "metadata": {},
   "outputs": [
    {
     "data": {
      "text/plain": [
       "0    123456.0\n",
       "1     54321.0\n",
       "2     87654.0\n",
       "3      3456.0\n",
       "4      7654.0\n",
       "5         NaN\n",
       "6     87654.0\n",
       "7      6789.0\n",
       "8         NaN\n",
       "9      4567.0\n",
       "Name: Number, dtype: float64"
      ]
     },
     "execution_count": 21,
     "metadata": {},
     "output_type": "execute_result"
    }
   ],
   "source": [
    "data['Number'].head(10)"
   ]
  },
  {
   "cell_type": "code",
   "execution_count": 22,
   "metadata": {},
   "outputs": [
    {
     "data": {
      "text/plain": [
       "0    123456.0\n",
       "1     54321.0\n",
       "2     87654.0\n",
       "3      3456.0\n",
       "4      7654.0\n",
       "5     12345.0\n",
       "6     87654.0\n",
       "7      6789.0\n",
       "8     12345.0\n",
       "9      4567.0\n",
       "Name: Number, dtype: float64"
      ]
     },
     "execution_count": 22,
     "metadata": {},
     "output_type": "execute_result"
    }
   ],
   "source": [
    "data['Number'].fillna(12345, inplace=True)\n",
    "data['Number'].head(10)"
   ]
  },
  {
   "cell_type": "markdown",
   "metadata": {},
   "source": [
    "### Dropping rows with missing values"
   ]
  },
  {
   "cell_type": "code",
   "execution_count": 23,
   "metadata": {},
   "outputs": [
    {
     "data": {
      "text/plain": [
       "Number             0\n",
       "City               0\n",
       "Colors Reported    9\n",
       "Shape Reported     2\n",
       "State              1\n",
       "Time               0\n",
       "dtype: int64"
      ]
     },
     "execution_count": 23,
     "metadata": {},
     "output_type": "execute_result"
    }
   ],
   "source": [
    "data.isnull().sum()"
   ]
  },
  {
   "cell_type": "code",
   "execution_count": 24,
   "metadata": {},
   "outputs": [
    {
     "data": {
      "text/plain": [
       "Number             0\n",
       "City               0\n",
       "Colors Reported    0\n",
       "Shape Reported     0\n",
       "State              0\n",
       "Time               0\n",
       "dtype: int64"
      ]
     },
     "execution_count": 24,
     "metadata": {},
     "output_type": "execute_result"
    }
   ],
   "source": [
    "data.dropna(inplace=True)\n",
    "data.isnull().sum()"
   ]
  },
  {
   "cell_type": "code",
   "execution_count": 25,
   "metadata": {},
   "outputs": [
    {
     "data": {
      "text/html": [
       "<div>\n",
       "<style scoped>\n",
       "    .dataframe tbody tr th:only-of-type {\n",
       "        vertical-align: middle;\n",
       "    }\n",
       "\n",
       "    .dataframe tbody tr th {\n",
       "        vertical-align: top;\n",
       "    }\n",
       "\n",
       "    .dataframe thead th {\n",
       "        text-align: right;\n",
       "    }\n",
       "</style>\n",
       "<table border=\"1\" class=\"dataframe\">\n",
       "  <thead>\n",
       "    <tr style=\"text-align: right;\">\n",
       "      <th></th>\n",
       "      <th>Number</th>\n",
       "      <th>City</th>\n",
       "      <th>Colors Reported</th>\n",
       "      <th>Shape Reported</th>\n",
       "      <th>State</th>\n",
       "      <th>Time</th>\n",
       "    </tr>\n",
       "  </thead>\n",
       "  <tbody>\n",
       "    <tr>\n",
       "      <th>3</th>\n",
       "      <td>3456.0</td>\n",
       "      <td>Abilene</td>\n",
       "      <td>blue</td>\n",
       "      <td>DISK</td>\n",
       "      <td>KS</td>\n",
       "      <td>1/12/1900 0:00</td>\n",
       "    </tr>\n",
       "    <tr>\n",
       "      <th>6</th>\n",
       "      <td>87654.0</td>\n",
       "      <td>Crater Lake</td>\n",
       "      <td>yellow</td>\n",
       "      <td>CIRCLE</td>\n",
       "      <td>CA</td>\n",
       "      <td>6/15/1935 0:00</td>\n",
       "    </tr>\n",
       "    <tr>\n",
       "      <th>8</th>\n",
       "      <td>12345.0</td>\n",
       "      <td>Eklutna</td>\n",
       "      <td>green</td>\n",
       "      <td>12</td>\n",
       "      <td>AK</td>\n",
       "      <td>10/15/1936 17:00</td>\n",
       "    </tr>\n",
       "    <tr>\n",
       "      <th>12</th>\n",
       "      <td>6543.0</td>\n",
       "      <td>Belton</td>\n",
       "      <td>red</td>\n",
       "      <td>SPHERE</td>\n",
       "      <td>Y</td>\n",
       "      <td>6/30/1939 20:00</td>\n",
       "    </tr>\n",
       "    <tr>\n",
       "      <th>19</th>\n",
       "      <td>6543.0</td>\n",
       "      <td>Belton</td>\n",
       "      <td>red</td>\n",
       "      <td>???</td>\n",
       "      <td>Y</td>\n",
       "      <td>6/30/1939 20:00</td>\n",
       "    </tr>\n",
       "    <tr>\n",
       "      <th>20</th>\n",
       "      <td>876.0</td>\n",
       "      <td>Keokuk</td>\n",
       "      <td>not known</td>\n",
       "      <td>@</td>\n",
       "      <td>IA</td>\n",
       "      <td>7/7/1939 2:00</td>\n",
       "    </tr>\n",
       "    <tr>\n",
       "      <th>21</th>\n",
       "      <td>5432.0</td>\n",
       "      <td>Ludington</td>\n",
       "      <td>*****</td>\n",
       "      <td>DISK</td>\n",
       "      <td>MI</td>\n",
       "      <td>6/1/1941 13:00</td>\n",
       "    </tr>\n",
       "  </tbody>\n",
       "</table>\n",
       "</div>"
      ],
      "text/plain": [
       "     Number         City Colors Reported Shape Reported State  \\\n",
       "3    3456.0      Abilene            blue           DISK    KS   \n",
       "6   87654.0  Crater Lake          yellow         CIRCLE    CA   \n",
       "8   12345.0      Eklutna           green             12    AK   \n",
       "12   6543.0       Belton             red         SPHERE     Y   \n",
       "19   6543.0       Belton             red            ???     Y   \n",
       "20    876.0       Keokuk       not known              @    IA   \n",
       "21   5432.0    Ludington           *****           DISK    MI   \n",
       "\n",
       "                Time  \n",
       "3     1/12/1900 0:00  \n",
       "6     6/15/1935 0:00  \n",
       "8   10/15/1936 17:00  \n",
       "12   6/30/1939 20:00  \n",
       "19   6/30/1939 20:00  \n",
       "20     7/7/1939 2:00  \n",
       "21    6/1/1941 13:00  "
      ]
     },
     "execution_count": 25,
     "metadata": {},
     "output_type": "execute_result"
    }
   ],
   "source": [
    "data"
   ]
  },
  {
   "cell_type": "markdown",
   "metadata": {},
   "source": [
    "### Dealing with incorrect/unwanted observations"
   ]
  },
  {
   "cell_type": "code",
   "execution_count": 27,
   "metadata": {},
   "outputs": [
    {
     "data": {
      "text/html": [
       "<div>\n",
       "<style scoped>\n",
       "    .dataframe tbody tr th:only-of-type {\n",
       "        vertical-align: middle;\n",
       "    }\n",
       "\n",
       "    .dataframe tbody tr th {\n",
       "        vertical-align: top;\n",
       "    }\n",
       "\n",
       "    .dataframe thead th {\n",
       "        text-align: right;\n",
       "    }\n",
       "</style>\n",
       "<table border=\"1\" class=\"dataframe\">\n",
       "  <thead>\n",
       "    <tr style=\"text-align: right;\">\n",
       "      <th></th>\n",
       "      <th>Number</th>\n",
       "      <th>City</th>\n",
       "      <th>Colors Reported</th>\n",
       "      <th>Shape Reported</th>\n",
       "      <th>State</th>\n",
       "      <th>Time</th>\n",
       "    </tr>\n",
       "  </thead>\n",
       "  <tbody>\n",
       "    <tr>\n",
       "      <th>8</th>\n",
       "      <td>12345.0</td>\n",
       "      <td>Eklutna</td>\n",
       "      <td>green</td>\n",
       "      <td>12</td>\n",
       "      <td>AK</td>\n",
       "      <td>10/15/1936 17:00</td>\n",
       "    </tr>\n",
       "    <tr>\n",
       "      <th>12</th>\n",
       "      <td>6543.0</td>\n",
       "      <td>Belton</td>\n",
       "      <td>red</td>\n",
       "      <td>SPHERE</td>\n",
       "      <td>Y</td>\n",
       "      <td>6/30/1939 20:00</td>\n",
       "    </tr>\n",
       "    <tr>\n",
       "      <th>19</th>\n",
       "      <td>6543.0</td>\n",
       "      <td>Belton</td>\n",
       "      <td>red</td>\n",
       "      <td>???</td>\n",
       "      <td>Y</td>\n",
       "      <td>6/30/1939 20:00</td>\n",
       "    </tr>\n",
       "    <tr>\n",
       "      <th>20</th>\n",
       "      <td>876.0</td>\n",
       "      <td>Keokuk</td>\n",
       "      <td>not known</td>\n",
       "      <td>@</td>\n",
       "      <td>IA</td>\n",
       "      <td>7/7/1939 2:00</td>\n",
       "    </tr>\n",
       "    <tr>\n",
       "      <th>21</th>\n",
       "      <td>5432.0</td>\n",
       "      <td>Ludington</td>\n",
       "      <td>*****</td>\n",
       "      <td>DISK</td>\n",
       "      <td>MI</td>\n",
       "      <td>6/1/1941 13:00</td>\n",
       "    </tr>\n",
       "  </tbody>\n",
       "</table>\n",
       "</div>"
      ],
      "text/plain": [
       "     Number       City Colors Reported Shape Reported State              Time\n",
       "8   12345.0    Eklutna           green             12    AK  10/15/1936 17:00\n",
       "12   6543.0     Belton             red         SPHERE     Y   6/30/1939 20:00\n",
       "19   6543.0     Belton             red            ???     Y   6/30/1939 20:00\n",
       "20    876.0     Keokuk       not known              @    IA     7/7/1939 2:00\n",
       "21   5432.0  Ludington           *****           DISK    MI    6/1/1941 13:00"
      ]
     },
     "execution_count": 27,
     "metadata": {},
     "output_type": "execute_result"
    }
   ],
   "source": [
    "data.tail()"
   ]
  },
  {
   "cell_type": "code",
   "execution_count": 29,
   "metadata": {},
   "outputs": [
    {
     "data": {
      "text/plain": [
       "(7, 6)"
      ]
     },
     "execution_count": 29,
     "metadata": {},
     "output_type": "execute_result"
    }
   ],
   "source": [
    "data.shape"
   ]
  },
  {
   "cell_type": "code",
   "execution_count": 31,
   "metadata": {},
   "outputs": [
    {
     "data": {
      "text/html": [
       "<div>\n",
       "<style scoped>\n",
       "    .dataframe tbody tr th:only-of-type {\n",
       "        vertical-align: middle;\n",
       "    }\n",
       "\n",
       "    .dataframe tbody tr th {\n",
       "        vertical-align: top;\n",
       "    }\n",
       "\n",
       "    .dataframe thead th {\n",
       "        text-align: right;\n",
       "    }\n",
       "</style>\n",
       "<table border=\"1\" class=\"dataframe\">\n",
       "  <thead>\n",
       "    <tr style=\"text-align: right;\">\n",
       "      <th></th>\n",
       "      <th>Number</th>\n",
       "      <th>City</th>\n",
       "      <th>Colors Reported</th>\n",
       "      <th>Shape Reported</th>\n",
       "      <th>State</th>\n",
       "      <th>Time</th>\n",
       "    </tr>\n",
       "  </thead>\n",
       "  <tbody>\n",
       "    <tr>\n",
       "      <th>3</th>\n",
       "      <td>3456.0</td>\n",
       "      <td>Abilene</td>\n",
       "      <td>blue</td>\n",
       "      <td>DISK</td>\n",
       "      <td>KS</td>\n",
       "      <td>1/12/1900 0:00</td>\n",
       "    </tr>\n",
       "    <tr>\n",
       "      <th>6</th>\n",
       "      <td>87654.0</td>\n",
       "      <td>Crater Lake</td>\n",
       "      <td>yellow</td>\n",
       "      <td>CIRCLE</td>\n",
       "      <td>CA</td>\n",
       "      <td>6/15/1935 0:00</td>\n",
       "    </tr>\n",
       "    <tr>\n",
       "      <th>8</th>\n",
       "      <td>12345.0</td>\n",
       "      <td>Eklutna</td>\n",
       "      <td>green</td>\n",
       "      <td>12</td>\n",
       "      <td>AK</td>\n",
       "      <td>10/15/1936 17:00</td>\n",
       "    </tr>\n",
       "    <tr>\n",
       "      <th>12</th>\n",
       "      <td>6543.0</td>\n",
       "      <td>Belton</td>\n",
       "      <td>red</td>\n",
       "      <td>SPHERE</td>\n",
       "      <td>Y</td>\n",
       "      <td>6/30/1939 20:00</td>\n",
       "    </tr>\n",
       "    <tr>\n",
       "      <th>19</th>\n",
       "      <td>6543.0</td>\n",
       "      <td>Belton</td>\n",
       "      <td>red</td>\n",
       "      <td>???</td>\n",
       "      <td>Y</td>\n",
       "      <td>6/30/1939 20:00</td>\n",
       "    </tr>\n",
       "    <tr>\n",
       "      <th>20</th>\n",
       "      <td>876.0</td>\n",
       "      <td>Keokuk</td>\n",
       "      <td>not known</td>\n",
       "      <td>@</td>\n",
       "      <td>IA</td>\n",
       "      <td>7/7/1939 2:00</td>\n",
       "    </tr>\n",
       "  </tbody>\n",
       "</table>\n",
       "</div>"
      ],
      "text/plain": [
       "     Number         City Colors Reported Shape Reported State  \\\n",
       "3    3456.0      Abilene            blue           DISK    KS   \n",
       "6   87654.0  Crater Lake          yellow         CIRCLE    CA   \n",
       "8   12345.0      Eklutna           green             12    AK   \n",
       "12   6543.0       Belton             red         SPHERE     Y   \n",
       "19   6543.0       Belton             red            ???     Y   \n",
       "20    876.0       Keokuk       not known              @    IA   \n",
       "\n",
       "                Time  \n",
       "3     1/12/1900 0:00  \n",
       "6     6/15/1935 0:00  \n",
       "8   10/15/1936 17:00  \n",
       "12   6/30/1939 20:00  \n",
       "19   6/30/1939 20:00  \n",
       "20     7/7/1939 2:00  "
      ]
     },
     "execution_count": 31,
     "metadata": {},
     "output_type": "execute_result"
    }
   ],
   "source": [
    "data_filtered = data[data['Colors Reported'] != '*****']\n",
    "data_filtered"
   ]
  },
  {
   "cell_type": "code",
   "execution_count": 34,
   "metadata": {},
   "outputs": [
    {
     "data": {
      "text/html": [
       "<div>\n",
       "<style scoped>\n",
       "    .dataframe tbody tr th:only-of-type {\n",
       "        vertical-align: middle;\n",
       "    }\n",
       "\n",
       "    .dataframe tbody tr th {\n",
       "        vertical-align: top;\n",
       "    }\n",
       "\n",
       "    .dataframe thead th {\n",
       "        text-align: right;\n",
       "    }\n",
       "</style>\n",
       "<table border=\"1\" class=\"dataframe\">\n",
       "  <thead>\n",
       "    <tr style=\"text-align: right;\">\n",
       "      <th></th>\n",
       "      <th>Number</th>\n",
       "      <th>City</th>\n",
       "      <th>Colors Reported</th>\n",
       "      <th>Shape Reported</th>\n",
       "      <th>State</th>\n",
       "      <th>Time</th>\n",
       "    </tr>\n",
       "  </thead>\n",
       "  <tbody>\n",
       "    <tr>\n",
       "      <th>3</th>\n",
       "      <td>3456.0</td>\n",
       "      <td>Abilene</td>\n",
       "      <td>blue</td>\n",
       "      <td>DISK</td>\n",
       "      <td>KS</td>\n",
       "      <td>1/12/1900 0:00</td>\n",
       "    </tr>\n",
       "    <tr>\n",
       "      <th>6</th>\n",
       "      <td>87654.0</td>\n",
       "      <td>Crater Lake</td>\n",
       "      <td>yellow</td>\n",
       "      <td>CIRCLE</td>\n",
       "      <td>CA</td>\n",
       "      <td>6/15/1935 0:00</td>\n",
       "    </tr>\n",
       "    <tr>\n",
       "      <th>8</th>\n",
       "      <td>12345.0</td>\n",
       "      <td>Eklutna</td>\n",
       "      <td>green</td>\n",
       "      <td>12</td>\n",
       "      <td>AK</td>\n",
       "      <td>10/15/1936 17:00</td>\n",
       "    </tr>\n",
       "    <tr>\n",
       "      <th>12</th>\n",
       "      <td>6543.0</td>\n",
       "      <td>Belton</td>\n",
       "      <td>red</td>\n",
       "      <td>SPHERE</td>\n",
       "      <td>Y</td>\n",
       "      <td>6/30/1939 20:00</td>\n",
       "    </tr>\n",
       "    <tr>\n",
       "      <th>19</th>\n",
       "      <td>6543.0</td>\n",
       "      <td>Belton</td>\n",
       "      <td>red</td>\n",
       "      <td>???</td>\n",
       "      <td>Y</td>\n",
       "      <td>6/30/1939 20:00</td>\n",
       "    </tr>\n",
       "    <tr>\n",
       "      <th>21</th>\n",
       "      <td>5432.0</td>\n",
       "      <td>Ludington</td>\n",
       "      <td>*****</td>\n",
       "      <td>DISK</td>\n",
       "      <td>MI</td>\n",
       "      <td>6/1/1941 13:00</td>\n",
       "    </tr>\n",
       "  </tbody>\n",
       "</table>\n",
       "</div>"
      ],
      "text/plain": [
       "     Number         City Colors Reported Shape Reported State  \\\n",
       "3    3456.0      Abilene            blue           DISK    KS   \n",
       "6   87654.0  Crater Lake          yellow         CIRCLE    CA   \n",
       "8   12345.0      Eklutna           green             12    AK   \n",
       "12   6543.0       Belton             red         SPHERE     Y   \n",
       "19   6543.0       Belton             red            ???     Y   \n",
       "21   5432.0    Ludington           *****           DISK    MI   \n",
       "\n",
       "                Time  \n",
       "3     1/12/1900 0:00  \n",
       "6     6/15/1935 0:00  \n",
       "8   10/15/1936 17:00  \n",
       "12   6/30/1939 20:00  \n",
       "19   6/30/1939 20:00  \n",
       "21    6/1/1941 13:00  "
      ]
     },
     "execution_count": 34,
     "metadata": {},
     "output_type": "execute_result"
    }
   ],
   "source": [
    "data_filtered2 = data.drop(data[data['Shape Reported'] == '@'].index, inplace=False)\n",
    "data_filtered2"
   ]
  },
  {
   "cell_type": "markdown",
   "metadata": {},
   "source": [
    "## Dealing with outliers"
   ]
  },
  {
   "cell_type": "code",
   "execution_count": 44,
   "metadata": {},
   "outputs": [],
   "source": [
    "from sklearn.datasets import load_boston\n",
    "import seaborn as sns\n",
    "from scipy import stats\n",
    "import numpy as np"
   ]
  },
  {
   "cell_type": "code",
   "execution_count": 39,
   "metadata": {},
   "outputs": [],
   "source": [
    "boston = load_boston()\n",
    "x = boston.data\n",
    "y = boston.target\n",
    "columns = boston.feature_names"
   ]
  },
  {
   "cell_type": "code",
   "execution_count": 40,
   "metadata": {},
   "outputs": [
    {
     "data": {
      "text/html": [
       "<div>\n",
       "<style scoped>\n",
       "    .dataframe tbody tr th:only-of-type {\n",
       "        vertical-align: middle;\n",
       "    }\n",
       "\n",
       "    .dataframe tbody tr th {\n",
       "        vertical-align: top;\n",
       "    }\n",
       "\n",
       "    .dataframe thead th {\n",
       "        text-align: right;\n",
       "    }\n",
       "</style>\n",
       "<table border=\"1\" class=\"dataframe\">\n",
       "  <thead>\n",
       "    <tr style=\"text-align: right;\">\n",
       "      <th></th>\n",
       "      <th>CRIM</th>\n",
       "      <th>ZN</th>\n",
       "      <th>INDUS</th>\n",
       "      <th>CHAS</th>\n",
       "      <th>NOX</th>\n",
       "      <th>RM</th>\n",
       "      <th>AGE</th>\n",
       "      <th>DIS</th>\n",
       "      <th>RAD</th>\n",
       "      <th>TAX</th>\n",
       "      <th>PTRATIO</th>\n",
       "      <th>B</th>\n",
       "      <th>LSTAT</th>\n",
       "    </tr>\n",
       "  </thead>\n",
       "  <tbody>\n",
       "    <tr>\n",
       "      <th>0</th>\n",
       "      <td>0.00632</td>\n",
       "      <td>18.0</td>\n",
       "      <td>2.31</td>\n",
       "      <td>0.0</td>\n",
       "      <td>0.538</td>\n",
       "      <td>6.575</td>\n",
       "      <td>65.2</td>\n",
       "      <td>4.0900</td>\n",
       "      <td>1.0</td>\n",
       "      <td>296.0</td>\n",
       "      <td>15.3</td>\n",
       "      <td>396.90</td>\n",
       "      <td>4.98</td>\n",
       "    </tr>\n",
       "    <tr>\n",
       "      <th>1</th>\n",
       "      <td>0.02731</td>\n",
       "      <td>0.0</td>\n",
       "      <td>7.07</td>\n",
       "      <td>0.0</td>\n",
       "      <td>0.469</td>\n",
       "      <td>6.421</td>\n",
       "      <td>78.9</td>\n",
       "      <td>4.9671</td>\n",
       "      <td>2.0</td>\n",
       "      <td>242.0</td>\n",
       "      <td>17.8</td>\n",
       "      <td>396.90</td>\n",
       "      <td>9.14</td>\n",
       "    </tr>\n",
       "    <tr>\n",
       "      <th>2</th>\n",
       "      <td>0.02729</td>\n",
       "      <td>0.0</td>\n",
       "      <td>7.07</td>\n",
       "      <td>0.0</td>\n",
       "      <td>0.469</td>\n",
       "      <td>7.185</td>\n",
       "      <td>61.1</td>\n",
       "      <td>4.9671</td>\n",
       "      <td>2.0</td>\n",
       "      <td>242.0</td>\n",
       "      <td>17.8</td>\n",
       "      <td>392.83</td>\n",
       "      <td>4.03</td>\n",
       "    </tr>\n",
       "    <tr>\n",
       "      <th>3</th>\n",
       "      <td>0.03237</td>\n",
       "      <td>0.0</td>\n",
       "      <td>2.18</td>\n",
       "      <td>0.0</td>\n",
       "      <td>0.458</td>\n",
       "      <td>6.998</td>\n",
       "      <td>45.8</td>\n",
       "      <td>6.0622</td>\n",
       "      <td>3.0</td>\n",
       "      <td>222.0</td>\n",
       "      <td>18.7</td>\n",
       "      <td>394.63</td>\n",
       "      <td>2.94</td>\n",
       "    </tr>\n",
       "    <tr>\n",
       "      <th>4</th>\n",
       "      <td>0.06905</td>\n",
       "      <td>0.0</td>\n",
       "      <td>2.18</td>\n",
       "      <td>0.0</td>\n",
       "      <td>0.458</td>\n",
       "      <td>7.147</td>\n",
       "      <td>54.2</td>\n",
       "      <td>6.0622</td>\n",
       "      <td>3.0</td>\n",
       "      <td>222.0</td>\n",
       "      <td>18.7</td>\n",
       "      <td>396.90</td>\n",
       "      <td>5.33</td>\n",
       "    </tr>\n",
       "  </tbody>\n",
       "</table>\n",
       "</div>"
      ],
      "text/plain": [
       "      CRIM    ZN  INDUS  CHAS    NOX     RM   AGE     DIS  RAD    TAX  \\\n",
       "0  0.00632  18.0   2.31   0.0  0.538  6.575  65.2  4.0900  1.0  296.0   \n",
       "1  0.02731   0.0   7.07   0.0  0.469  6.421  78.9  4.9671  2.0  242.0   \n",
       "2  0.02729   0.0   7.07   0.0  0.469  7.185  61.1  4.9671  2.0  242.0   \n",
       "3  0.03237   0.0   2.18   0.0  0.458  6.998  45.8  6.0622  3.0  222.0   \n",
       "4  0.06905   0.0   2.18   0.0  0.458  7.147  54.2  6.0622  3.0  222.0   \n",
       "\n",
       "   PTRATIO       B  LSTAT  \n",
       "0     15.3  396.90   4.98  \n",
       "1     17.8  396.90   9.14  \n",
       "2     17.8  392.83   4.03  \n",
       "3     18.7  394.63   2.94  \n",
       "4     18.7  396.90   5.33  "
      ]
     },
     "execution_count": 40,
     "metadata": {},
     "output_type": "execute_result"
    }
   ],
   "source": [
    "boston_df = pd.DataFrame(boston.data)\n",
    "boston_df.columns = columns\n",
    "boston_df.head()"
   ]
  },
  {
   "cell_type": "markdown",
   "metadata": {},
   "source": [
    "### Discover outliers with visualization tools\n",
    "\n",
    "#### Box plot"
   ]
  },
  {
   "cell_type": "code",
   "execution_count": 42,
   "metadata": {},
   "outputs": [
    {
     "data": {
      "image/png": "[encoded data removed]",
      "text/plain": [
       "<Figure size 432x288 with 1 Axes>"
      ]
     },
     "metadata": {
      "needs_background": "light"
     },
     "output_type": "display_data"
    }
   ],
   "source": [
    "sns.boxplot(x=boston_df['DIS']);"
   ]
  },
  {
   "cell_type": "markdown",
   "metadata": {},
   "source": [
    "#### Scatter plot"
   ]
  },
  {
   "cell_type": "code",
   "execution_count": 43,
   "metadata": {},
   "outputs": [
    {
     "data": {
      "image/png": "[encoded data removed]",
      "text/plain": [
       "<Figure size 1152x576 with 1 Axes>"
      ]
     },
     "metadata": {
      "needs_background": "light"
     },
     "output_type": "display_data"
    }
   ],
   "source": [
    "fig, ax = plt.subplots(figsize=(16,8))\n",
    "ax.scatter(boston_df['INDUS'], boston_df['TAX'])\n",
    "ax.set_xlabel('Non-retail business acres')\n",
    "ax.set_ylabel('Full-value property tax rate (per $10k)')\n",
    "plt.show();"
   ]
  },
  {
   "cell_type": "markdown",
   "metadata": {},
   "source": [
    "### Discover outliers with statistical rules\n",
    "#### Z-Score"
   ]
  },
  {
   "cell_type": "code",
   "execution_count": 45,
   "metadata": {},
   "outputs": [
    {
     "data": {
      "text/plain": [
       "array([[0.41978194, 0.28482986, 1.2879095 , ..., 1.45900038, 0.44105193,\n",
       "        1.0755623 ],\n",
       "       [0.41733926, 0.48772236, 0.59338101, ..., 0.30309415, 0.44105193,\n",
       "        0.49243937],\n",
       "       [0.41734159, 0.48772236, 0.59338101, ..., 0.30309415, 0.39642699,\n",
       "        1.2087274 ],\n",
       "       ...,\n",
       "       [0.41344658, 0.48772236, 0.11573841, ..., 1.17646583, 0.44105193,\n",
       "        0.98304761],\n",
       "       [0.40776407, 0.48772236, 0.11573841, ..., 1.17646583, 0.4032249 ,\n",
       "        0.86530163],\n",
       "       [0.41500016, 0.48772236, 0.11573841, ..., 1.17646583, 0.44105193,\n",
       "        0.66905833]])"
      ]
     },
     "execution_count": 45,
     "metadata": {},
     "output_type": "execute_result"
    }
   ],
   "source": [
    "z = np.abs(stats.zscore(boston_df))\n",
    "z"
   ]
  },
  {
   "cell_type": "code",
   "execution_count": 46,
   "metadata": {},
   "outputs": [
    {
     "data": {
      "text/plain": [
       "(array([ 55,  56,  57, 102, 141, 142, 152, 154, 155, 160, 162, 163, 199,\n",
       "        200, 201, 202, 203, 204, 208, 209, 210, 211, 212, 216, 218, 219,\n",
       "        220, 221, 222, 225, 234, 236, 256, 257, 262, 269, 273, 274, 276,\n",
       "        277, 282, 283, 283, 284, 347, 351, 352, 353, 353, 354, 355, 356,\n",
       "        357, 358, 363, 364, 364, 365, 367, 369, 370, 372, 373, 374, 374,\n",
       "        380, 398, 404, 405, 406, 410, 410, 411, 412, 412, 414, 414, 415,\n",
       "        416, 418, 418, 419, 423, 424, 425, 426, 427, 427, 429, 431, 436,\n",
       "        437, 438, 445, 450, 454, 455, 456, 457, 466], dtype=int64),\n",
       " array([ 1,  1,  1, 11, 12,  3,  3,  3,  3,  3,  3,  3,  1,  1,  1,  1,  1,\n",
       "         1,  3,  3,  3,  3,  3,  3,  3,  3,  3,  3,  3,  5,  3,  3,  1,  5,\n",
       "         5,  3,  3,  3,  3,  3,  3,  1,  3,  1,  1,  7,  7,  1,  7,  7,  7,\n",
       "         3,  3,  3,  3,  3,  5,  5,  5,  3,  3,  3, 12,  5, 12,  0,  0,  0,\n",
       "         0,  5,  0, 11, 11, 11, 12,  0, 12, 11, 11,  0, 11, 11, 11, 11, 11,\n",
       "        11,  0, 11, 11, 11, 11, 11, 11, 11, 11, 11, 11, 11, 11, 11],\n",
       "       dtype=int64))"
      ]
     },
     "execution_count": 46,
     "metadata": {},
     "output_type": "execute_result"
    }
   ],
   "source": [
    "threshold = 3\n",
    "np.where(z>threshold)"
   ]
  },
  {
   "cell_type": "code",
   "execution_count": 47,
   "metadata": {},
   "outputs": [
    {
     "name": "stdout",
     "output_type": "stream",
     "text": [
      "3.375038763517309\n"
     ]
    }
   ],
   "source": [
    "print(z[55][1])"
   ]
  },
  {
   "cell_type": "markdown",
   "metadata": {},
   "source": [
    "#### IQR"
   ]
  },
  {
   "cell_type": "code",
   "execution_count": 49,
   "metadata": {},
   "outputs": [
    {
     "data": {
      "text/plain": [
       "CRIM         3.595038\n",
       "ZN          12.500000\n",
       "INDUS       12.910000\n",
       "CHAS         0.000000\n",
       "NOX          0.175000\n",
       "RM           0.738000\n",
       "AGE         49.050000\n",
       "DIS          3.088250\n",
       "RAD         20.000000\n",
       "TAX        387.000000\n",
       "PTRATIO      2.800000\n",
       "B           20.847500\n",
       "LSTAT       10.005000\n",
       "dtype: float64"
      ]
     },
     "execution_count": 49,
     "metadata": {},
     "output_type": "execute_result"
    }
   ],
   "source": [
    "Q1 = boston_df.quantile(.25)\n",
    "Q3 = boston_df.quantile(.75)\n",
    "IQR = Q3 - Q1\n",
    "IQR"
   ]
  },
  {
   "cell_type": "code",
   "execution_count": 50,
   "metadata": {},
   "outputs": [
    {
     "data": {
      "text/plain": [
       "(array([ 18,  25,  27,  32,  34,  39,  40,  54,  55,  56,  57,  65,  66,\n",
       "         97,  98, 102, 118, 134, 141, 142, 145, 146, 151, 152, 152, 153,\n",
       "        154, 154, 155, 155, 156, 160, 160, 162, 162, 163, 163, 165, 166,\n",
       "        167, 168, 169, 170, 180, 186, 187, 188, 189, 190, 191, 192, 193,\n",
       "        194, 195, 195, 196, 196, 197, 197, 198, 198, 199, 200, 201, 202,\n",
       "        203, 203, 204, 204, 208, 209, 210, 211, 212, 216, 218, 219, 220,\n",
       "        221, 222, 224, 225, 226, 232, 233, 234, 236, 253, 254, 255, 256,\n",
       "        257, 257, 258, 259, 260, 261, 262, 262, 263, 264, 265, 266, 267,\n",
       "        267, 268, 269, 273, 274, 274, 275, 276, 276, 277, 277, 278, 280,\n",
       "        282, 283, 283, 283, 284, 285, 286, 286, 287, 288, 289, 290, 291,\n",
       "        292, 298, 299, 300, 301, 302, 303, 304, 305, 306, 307, 331, 332,\n",
       "        341, 343, 344, 347, 348, 349, 350, 351, 351, 352, 352, 353, 353,\n",
       "        354, 354, 355, 355, 356, 357, 358, 363, 364, 364, 365, 366, 367,\n",
       "        367, 367, 369, 370, 371, 372, 373, 373, 374, 374, 374, 375, 376,\n",
       "        377, 378, 379, 380, 381, 382, 384, 384, 384, 385, 386, 386, 387,\n",
       "        387, 388, 392, 394, 398, 399, 399, 400, 401, 402, 403, 404, 404,\n",
       "        405, 406, 406, 407, 407, 408, 409, 409, 410, 410, 411, 411, 412,\n",
       "        412, 412, 412, 413, 413, 414, 414, 414, 414, 415, 415, 416, 416,\n",
       "        417, 417, 418, 418, 419, 419, 420, 420, 421, 422, 422, 423, 424,\n",
       "        425, 425, 426, 426, 427, 427, 428, 429, 429, 430, 431, 431, 432,\n",
       "        433, 434, 434, 435, 435, 436, 436, 437, 437, 438, 438, 438, 439,\n",
       "        440, 441, 443, 444, 444, 445, 445, 446, 447, 448, 449, 450, 454,\n",
       "        454, 455, 456, 457, 458, 460, 465, 466, 467, 468, 469, 475, 477,\n",
       "        478, 479, 489, 490], dtype=int64),\n",
       " array([11, 11, 11, 11, 11,  1,  1,  1,  1,  1,  1,  1,  1,  5,  5, 11, 11,\n",
       "        11, 12,  3, 11, 11, 11,  3, 11, 11,  3, 11,  3, 11, 11,  3, 11,  3,\n",
       "         5,  3,  5, 11,  5, 11, 11, 11, 11,  5,  5,  1,  1,  1,  1,  1,  1,\n",
       "         1,  1,  1,  5,  1, 10,  1, 10,  1, 10,  1,  1,  1,  1,  1,  5,  1,\n",
       "         5,  3,  3,  3,  3,  3,  3,  3,  3,  3,  3,  3,  5,  5,  5,  5,  5,\n",
       "         3,  3,  5,  1,  1,  1,  5, 10, 10, 10, 10, 10,  5, 10, 10, 10, 10,\n",
       "        10,  5, 10, 10,  3,  3,  1,  3,  1,  1,  3,  1,  3,  1,  5,  3,  1,\n",
       "         3,  5,  1,  1,  1, 11,  1,  1,  1,  1,  1,  1,  1,  1,  1,  1,  1,\n",
       "         1,  1,  1,  1,  1,  1,  1,  1,  1,  1,  1,  1,  1,  1,  1,  7,  1,\n",
       "         7,  1,  7,  1,  7,  1,  7,  3,  3,  3,  3,  3,  5,  5, 11,  0,  5,\n",
       "        11,  3,  3,  0,  3,  0, 12,  0,  5, 12,  0,  0,  0,  0,  0,  0,  0,\n",
       "         0,  0,  5, 11,  0,  0,  5,  0, 12,  0,  0,  0,  0,  0, 11,  0,  0,\n",
       "         0,  0,  0, 11,  0,  0,  5,  0, 11, 11,  0, 11,  0, 11,  0, 11,  0,\n",
       "         5, 11, 12,  0, 11,  0,  5, 11, 12,  0, 11,  0, 11,  0, 11,  0, 11,\n",
       "         0, 11,  0, 11, 11,  0, 11, 11, 11,  0, 11,  0, 11,  0, 11, 11,  0,\n",
       "        11, 11,  0, 11, 11, 11,  0, 11,  0, 11,  0, 11,  0, 11,  0, 11, 12,\n",
       "         0,  0,  0,  0,  0, 11,  0, 11, 11,  0,  0, 11, 11,  0, 11, 11, 11,\n",
       "        11, 11, 11, 11, 11, 11,  0,  0, 11,  0,  0,  0, 11, 11],\n",
       "       dtype=int64))"
      ]
     },
     "execution_count": 50,
     "metadata": {},
     "output_type": "execute_result"
    }
   ],
   "source": [
    "np.where((boston_df < (Q1-1.5*IQR)) | (boston_df > (Q3+1.5*IQR)))"
   ]
  },
  {
   "cell_type": "markdown",
   "metadata": {},
   "source": [
    "### Correcting and removing outliers\n",
    "#### Z-Score"
   ]
  },
  {
   "cell_type": "code",
   "execution_count": 52,
   "metadata": {},
   "outputs": [
    {
     "data": {
      "text/plain": [
       "((415, 13), (506, 13))"
      ]
     },
     "execution_count": 52,
     "metadata": {},
     "output_type": "execute_result"
    }
   ],
   "source": [
    "# Select rows without a single outlier\n",
    "bdf1 = boston_df[(z<3).all(axis=1)]\n",
    "bdf1.shape, boston_df.shape"
   ]
  },
  {
   "cell_type": "code",
   "execution_count": 53,
   "metadata": {},
   "outputs": [],
   "source": [
    "bdf2 = boston_df.copy() # Copy the df\n",
    "\n",
    "# Replace outliers with median values\n",
    "# We will ignore any new outliers that this creates (since it will change the IQR)\n",
    "\n",
    "for i, j in zip(np.where(z>threshold)[0], np.where(z>threshold)[1]):\n",
    "    bdf2.iloc[i,j] = boston_df.iloc[:,j].median()"
   ]
  },
  {
   "cell_type": "code",
   "execution_count": 54,
   "metadata": {},
   "outputs": [
    {
     "name": "stderr",
     "output_type": "stream",
     "text": [
      "C:\\Users\\pcopley\\Anaconda3\\lib\\site-packages\\scipy\\stats\\stats.py:2500: RuntimeWarning: invalid value encountered in true_divide\n",
      "  return (a - mns) / sstd\n",
      "<ipython-input-54-07109181fd60>:3: RuntimeWarning: invalid value encountered in greater\n",
      "  np.where(z>threshold)\n"
     ]
    },
    {
     "data": {
      "text/plain": [
       "(array([ 39,  40,  54,  65,  66, 145, 146, 155, 156, 163, 195, 196, 197,\n",
       "        198, 224, 232, 233, 253, 254, 255, 267, 286, 290, 291, 292, 298,\n",
       "        299, 300, 348, 354, 355, 367, 374, 375, 378, 384, 384, 386, 387,\n",
       "        400, 403, 406, 409, 412, 413, 413, 414, 415, 417, 417, 428, 430,\n",
       "        432, 433, 434, 435, 438, 440], dtype=int64),\n",
       " array([ 1,  1,  1,  1,  1, 11, 11, 11, 11,  5,  1,  1,  1,  1,  5,  5,  5,\n",
       "         5,  1,  1,  5,  1,  1,  1,  1,  1,  1,  1,  1,  1,  1, 11,  0,  0,\n",
       "         0,  0,  5,  0,  0,  0,  0,  0, 11,  0,  0, 11, 11,  0,  0, 11, 11,\n",
       "        11, 11, 11, 11, 11, 12,  0], dtype=int64))"
      ]
     },
     "execution_count": 54,
     "metadata": {},
     "output_type": "execute_result"
    }
   ],
   "source": [
    "z = np.abs(stats.zscore(bdf2))\n",
    "\n",
    "np.where(z>threshold)"
   ]
  },
  {
   "cell_type": "markdown",
   "metadata": {},
   "source": [
    "#### IQR"
   ]
  },
  {
   "cell_type": "code",
   "execution_count": 56,
   "metadata": {},
   "outputs": [
    {
     "data": {
      "text/plain": [
       "(274, 13)"
      ]
     },
     "execution_count": 56,
     "metadata": {},
     "output_type": "execute_result"
    }
   ],
   "source": [
    "bdf3 = boston_df[~((boston_df < (Q1-1.5*IQR)) | (boston_df > (Q3+1.5*IQR))).any(axis=1)]\n",
    "bdf3.shape"
   ]
  },
  {
   "cell_type": "code",
   "execution_count": 57,
   "metadata": {},
   "outputs": [
    {
     "data": {
      "text/plain": [
       "((506, 13), (506, 13))"
      ]
     },
     "execution_count": 57,
     "metadata": {},
     "output_type": "execute_result"
    }
   ],
   "source": [
    "bdf4 = boston_df.copy()\n",
    "\n",
    "# Replace every outlier on the lower side with the lower whisker value\n",
    "for i,j in zip(np.where(bdf4<Q1-1.5*IQR)[0], np.where(bdf4<Q1-1.5*IQR)[1]):\n",
    "    w=Q1-1.5*IQR\n",
    "    bdf4.iloc[i,j] = w[j]\n",
    "\n",
    "# Replace every outlier on the upper side with the upper whisker value\n",
    "for i,j in zip(np.where(bdf4>Q3+1.5*IQR)[0], np.where(bdf4>Q3+1.5*IQR)[1]):\n",
    "    w=Q3+1.5*IQR\n",
    "    bdf4.iloc[i,j] = w[j]\n",
    "\n",
    "bdf4.shape, boston_df.shape"
   ]
  }
 ],
 "metadata": {
  "kernelspec": {
   "display_name": "Python 3",
   "language": "python",
   "name": "python3"
  },
  "language_info": {
   "codemirror_mode": {
    "name": "ipython",
    "version": 3
   },
   "file_extension": ".py",
   "mimetype": "text/x-python",
   "name": "python",
   "nbconvert_exporter": "python",
   "pygments_lexer": "ipython3",
   "version": "3.8.3"
  }
 },
 "nbformat": 4,
 "nbformat_minor": 4
}
