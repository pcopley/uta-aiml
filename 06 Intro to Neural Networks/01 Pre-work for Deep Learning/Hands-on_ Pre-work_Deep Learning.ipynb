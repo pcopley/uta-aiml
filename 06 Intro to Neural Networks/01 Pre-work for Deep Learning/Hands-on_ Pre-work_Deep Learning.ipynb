{
 "cells": [
  {
   "cell_type": "markdown",
   "metadata": {
    "id": "dJG5B0jtlHbz"
   },
   "source": [
    "# **Concepts Covered:**\n",
    "\n",
    "- <a href = #link1>Matrix Operations (Linear Algebra)</a>\n",
    "- <a href = #link2>Functions and Derivatives</a>\n",
    "- <a href = #link3>Optimization: Gradient Descent</a>\n",
    "- <a href = #link4>Introduction to TensorFlow and Keras</a>"
   ]
  },
  {
   "cell_type": "markdown",
   "metadata": {
    "id": "kvEIjAUrGFqh"
   },
   "source": [
    "# <a id='link1'>**Matrix Operations (Linear Algebra)**</a>"
   ]
  },
  {
   "cell_type": "code",
   "execution_count": 1,
   "metadata": {
    "id": "13hFN1IqGlTa"
   },
   "outputs": [],
   "source": [
    "import numpy as np     # import numpy library"
   ]
  },
  {
   "cell_type": "markdown",
   "metadata": {
    "id": "SbKSkT9KGuZI"
   },
   "source": [
    "### Now, let's create a matrix using functions: arange() and reshape()"
   ]
  },
  {
   "cell_type": "code",
   "execution_count": 2,
   "metadata": {
    "colab": {
     "base_uri": "https://localhost:8080/"
    },
    "executionInfo": {
     "elapsed": 2178,
     "status": "ok",
     "timestamp": 1608207003785,
     "user": {
      "displayName": "Praveen Pareek",
      "photoUrl": "https://lh3.googleusercontent.com/a-/AOh14GiLgDS7q3TkA3v3HhWFuPF6A981GaGFAgzVVWFM=s64",
      "userId": "15192440233452648174"
     },
     "user_tz": -330
    },
    "id": "xKzOE9NyFqnM",
    "outputId": "2e956f04-6f5d-46c9-e2c5-67518dad3a05"
   },
   "outputs": [
    {
     "data": {
      "text/plain": [
       "array([[ 0,  1,  2],\n",
       "       [ 3,  4,  5],\n",
       "       [ 6,  7,  8],\n",
       "       [ 9, 10, 11]])"
      ]
     },
     "execution_count": 2,
     "metadata": {},
     "output_type": "execute_result"
    }
   ],
   "source": [
    "M = np.arange(12).reshape(4,3)\n",
    "M"
   ]
  },
  {
   "cell_type": "markdown",
   "metadata": {
    "id": "gBw90KtQHMte"
   },
   "source": [
    "### Sometimes, we need to flip the axes/dimensions of a matrix. When we interchange a matrix’s rows and columns, the result is called the **transpose** of the matrix."
   ]
  },
  {
   "cell_type": "code",
   "execution_count": 3,
   "metadata": {
    "colab": {
     "base_uri": "https://localhost:8080/"
    },
    "executionInfo": {
     "elapsed": 1831,
     "status": "ok",
     "timestamp": 1608207003787,
     "user": {
      "displayName": "Praveen Pareek",
      "photoUrl": "https://lh3.googleusercontent.com/a-/AOh14GiLgDS7q3TkA3v3HhWFuPF6A981GaGFAgzVVWFM=s64",
      "userId": "15192440233452648174"
     },
     "user_tz": -330
    },
    "id": "QCQINPi7GjMY",
    "outputId": "15d99d7b-b60e-413b-a5ab-a0df9b8c9863"
   },
   "outputs": [
    {
     "data": {
      "text/plain": [
       "array([[ 0,  3,  6,  9],\n",
       "       [ 1,  4,  7, 10],\n",
       "       [ 2,  5,  8, 11]])"
      ]
     },
     "execution_count": 3,
     "metadata": {},
     "output_type": "execute_result"
    }
   ],
   "source": [
    "M.T       # taking transpose of the matrix"
   ]
  },
  {
   "cell_type": "markdown",
   "metadata": {
    "id": "IBY4UfVfHigY"
   },
   "source": [
    "### You can read more about the use of numpy for matrix operations and other mathematical operations in general using this link: [NumPy basics](https://numpy.org/doc/stable/user/basics.html)"
   ]
  },
  {
   "cell_type": "markdown",
   "metadata": {
    "id": "x1myoihpH6zG"
   },
   "source": [
    "### Decomposition of Matrix:\n",
    "\n",
    "- Eigendecomposition: We can use a built-in function in numpy \"numpy.linalg.eig\" for computing the eigenvalues."
   ]
  },
  {
   "cell_type": "code",
   "execution_count": 4,
   "metadata": {
    "colab": {
     "base_uri": "https://localhost:8080/"
    },
    "executionInfo": {
     "elapsed": 2061,
     "status": "ok",
     "timestamp": 1608207004521,
     "user": {
      "displayName": "Praveen Pareek",
      "photoUrl": "https://lh3.googleusercontent.com/a-/AOh14GiLgDS7q3TkA3v3HhWFuPF6A981GaGFAgzVVWFM=s64",
      "userId": "15192440233452648174"
     },
     "user_tz": -330
    },
    "id": "p4wRgzd2HG7m",
    "outputId": "e87a4a06-8ae9-46a4-ec9a-e995bac9c82a"
   },
   "outputs": [
    {
     "name": "stdout",
     "output_type": "stream",
     "text": [
      "[2.43844719 6.56155281]\n",
      "[[-0.78820544 -0.61541221]\n",
      " [ 0.61541221 -0.78820544]]\n"
     ]
    }
   ],
   "source": [
    "p, v = np.linalg.eig(np.array([[4, 2], [2, 5]]))\n",
    "print(p)\n",
    "print(v)"
   ]
  },
  {
   "cell_type": "markdown",
   "metadata": {
    "id": "-hb044e5KFj5"
   },
   "source": [
    "Note:\n",
    "\n",
    "- NumPy normalizes the eigenvectors to unit length, whereas we took ours to be of arbitrary length."
   ]
  },
  {
   "cell_type": "markdown",
   "metadata": {
    "id": "_9b61tcTKnTP"
   },
   "source": [
    "### Norm:\n",
    "\n",
    "- In code, we can calculate the L2 norm of a vector as follows."
   ]
  },
  {
   "cell_type": "code",
   "execution_count": 5,
   "metadata": {
    "colab": {
     "base_uri": "https://localhost:8080/"
    },
    "executionInfo": {
     "elapsed": 1583,
     "status": "ok",
     "timestamp": 1608207004522,
     "user": {
      "displayName": "Praveen Pareek",
      "photoUrl": "https://lh3.googleusercontent.com/a-/AOh14GiLgDS7q3TkA3v3HhWFuPF6A981GaGFAgzVVWFM=s64",
      "userId": "15192440233452648174"
     },
     "user_tz": -330
    },
    "id": "Ec4e_bPRJwfk",
    "outputId": "fdd56acf-fc63-43b7-dc54-b47840eebc90"
   },
   "outputs": [
    {
     "data": {
      "text/plain": [
       "5.0"
      ]
     },
     "execution_count": 5,
     "metadata": {},
     "output_type": "execute_result"
    }
   ],
   "source": [
    "a = np.array([-3, 4])\n",
    "np.linalg.norm(a)"
   ]
  },
  {
   "cell_type": "markdown",
   "metadata": {
    "id": "p0v_VPloK5BG"
   },
   "source": [
    "- To calculate the L1 norm, we compose the absolute value function with a sum over the elements."
   ]
  },
  {
   "cell_type": "code",
   "execution_count": 6,
   "metadata": {
    "colab": {
     "base_uri": "https://localhost:8080/"
    },
    "executionInfo": {
     "elapsed": 2284,
     "status": "ok",
     "timestamp": 1608207005570,
     "user": {
      "displayName": "Praveen Pareek",
      "photoUrl": "https://lh3.googleusercontent.com/a-/AOh14GiLgDS7q3TkA3v3HhWFuPF6A981GaGFAgzVVWFM=s64",
      "userId": "15192440233452648174"
     },
     "user_tz": -330
    },
    "id": "0NRQXvj4K0tQ",
    "outputId": "50ca0cfd-63ed-4e6e-c74c-5a06dd5e8417"
   },
   "outputs": [
    {
     "data": {
      "text/plain": [
       "7"
      ]
     },
     "execution_count": 6,
     "metadata": {},
     "output_type": "execute_result"
    }
   ],
   "source": [
    "np.abs(a).sum()"
   ]
  },
  {
   "cell_type": "code",
   "execution_count": 7,
   "metadata": {
    "colab": {
     "base_uri": "https://localhost:8080/"
    },
    "executionInfo": {
     "elapsed": 2116,
     "status": "ok",
     "timestamp": 1608207005572,
     "user": {
      "displayName": "Praveen Pareek",
      "photoUrl": "https://lh3.googleusercontent.com/a-/AOh14GiLgDS7q3TkA3v3HhWFuPF6A981GaGFAgzVVWFM=s64",
      "userId": "15192440233452648174"
     },
     "user_tz": -330
    },
    "id": "eE0Ew48DLCrT",
    "outputId": "583b058a-01f9-4052-cea5-2730219649c9"
   },
   "outputs": [
    {
     "data": {
      "text/plain": [
       "array([[1., 1., 1., 1.],\n",
       "       [1., 1., 1., 1.],\n",
       "       [1., 1., 1., 1.],\n",
       "       [1., 1., 1., 1.]])"
      ]
     },
     "execution_count": 7,
     "metadata": {},
     "output_type": "execute_result"
    }
   ],
   "source": [
    "b = np.ones((4,4))\n",
    "b"
   ]
  },
  {
   "cell_type": "code",
   "execution_count": 8,
   "metadata": {
    "colab": {
     "base_uri": "https://localhost:8080/"
    },
    "executionInfo": {
     "elapsed": 1979,
     "status": "ok",
     "timestamp": 1608207005574,
     "user": {
      "displayName": "Praveen Pareek",
      "photoUrl": "https://lh3.googleusercontent.com/a-/AOh14GiLgDS7q3TkA3v3HhWFuPF6A981GaGFAgzVVWFM=s64",
      "userId": "15192440233452648174"
     },
     "user_tz": -330
    },
    "id": "l2eqAqbjLLz1",
    "outputId": "b9385500-9a5b-477e-d41b-259d367d98e7"
   },
   "outputs": [
    {
     "data": {
      "text/plain": [
       "4.0"
      ]
     },
     "execution_count": 8,
     "metadata": {},
     "output_type": "execute_result"
    }
   ],
   "source": [
    "np.linalg.norm(b)"
   ]
  },
  {
   "cell_type": "markdown",
   "metadata": {
    "id": "hou58Zjgq-_V"
   },
   "source": [
    "### Rank:"
   ]
  },
  {
   "cell_type": "code",
   "execution_count": 9,
   "metadata": {
    "colab": {
     "base_uri": "https://localhost:8080/"
    },
    "executionInfo": {
     "elapsed": 2300,
     "status": "ok",
     "timestamp": 1608207006437,
     "user": {
      "displayName": "Praveen Pareek",
      "photoUrl": "https://lh3.googleusercontent.com/a-/AOh14GiLgDS7q3TkA3v3HhWFuPF6A981GaGFAgzVVWFM=s64",
      "userId": "15192440233452648174"
     },
     "user_tz": -330
    },
    "id": "Ew-SBbkArZZ8",
    "outputId": "e12b6e58-9b9e-40ff-b535-ccfcc9c5bd71"
   },
   "outputs": [
    {
     "data": {
      "text/plain": [
       "array([[1, 2, 3],\n",
       "       [4, 5, 6]])"
      ]
     },
     "execution_count": 9,
     "metadata": {},
     "output_type": "execute_result"
    }
   ],
   "source": [
    "mat1 = np.arange(1,7).reshape(2,3)\n",
    "mat1"
   ]
  },
  {
   "cell_type": "code",
   "execution_count": 10,
   "metadata": {
    "colab": {
     "base_uri": "https://localhost:8080/"
    },
    "executionInfo": {
     "elapsed": 2127,
     "status": "ok",
     "timestamp": 1608207006438,
     "user": {
      "displayName": "Praveen Pareek",
      "photoUrl": "https://lh3.googleusercontent.com/a-/AOh14GiLgDS7q3TkA3v3HhWFuPF6A981GaGFAgzVVWFM=s64",
      "userId": "15192440233452648174"
     },
     "user_tz": -330
    },
    "id": "r4F90Bw3q-gO",
    "outputId": "b1e7f928-cac8-448b-9762-a85a91954889"
   },
   "outputs": [
    {
     "data": {
      "text/plain": [
       "2"
      ]
     },
     "execution_count": 10,
     "metadata": {},
     "output_type": "execute_result"
    }
   ],
   "source": [
    "np.linalg.matrix_rank(mat1)"
   ]
  },
  {
   "cell_type": "code",
   "execution_count": 11,
   "metadata": {
    "colab": {
     "base_uri": "https://localhost:8080/"
    },
    "executionInfo": {
     "elapsed": 1957,
     "status": "ok",
     "timestamp": 1608207006439,
     "user": {
      "displayName": "Praveen Pareek",
      "photoUrl": "https://lh3.googleusercontent.com/a-/AOh14GiLgDS7q3TkA3v3HhWFuPF6A981GaGFAgzVVWFM=s64",
      "userId": "15192440233452648174"
     },
     "user_tz": -330
    },
    "id": "w7dYdczsr228",
    "outputId": "332292fd-ed1f-40ba-fa49-bc26c87c475e"
   },
   "outputs": [
    {
     "data": {
      "text/plain": [
       "array([1., 1., 1., 1.])"
      ]
     },
     "execution_count": 11,
     "metadata": {},
     "output_type": "execute_result"
    }
   ],
   "source": [
    "mat2 = np.ones((4,))\n",
    "mat2"
   ]
  },
  {
   "cell_type": "code",
   "execution_count": 12,
   "metadata": {
    "colab": {
     "base_uri": "https://localhost:8080/"
    },
    "executionInfo": {
     "elapsed": 1791,
     "status": "ok",
     "timestamp": 1608207006440,
     "user": {
      "displayName": "Praveen Pareek",
      "photoUrl": "https://lh3.googleusercontent.com/a-/AOh14GiLgDS7q3TkA3v3HhWFuPF6A981GaGFAgzVVWFM=s64",
      "userId": "15192440233452648174"
     },
     "user_tz": -330
    },
    "id": "bkLwq0Q8sD7Y",
    "outputId": "c44089c8-3d9a-4db4-ea67-5b0d2d62f586"
   },
   "outputs": [
    {
     "data": {
      "text/plain": [
       "1"
      ]
     },
     "execution_count": 12,
     "metadata": {},
     "output_type": "execute_result"
    }
   ],
   "source": [
    "np.linalg.matrix_rank(mat2) # 1 dimension - rank 1 unless all 0"
   ]
  },
  {
   "cell_type": "code",
   "execution_count": 13,
   "metadata": {
    "colab": {
     "base_uri": "https://localhost:8080/"
    },
    "executionInfo": {
     "elapsed": 1610,
     "status": "ok",
     "timestamp": 1608207006440,
     "user": {
      "displayName": "Praveen Pareek",
      "photoUrl": "https://lh3.googleusercontent.com/a-/AOh14GiLgDS7q3TkA3v3HhWFuPF6A981GaGFAgzVVWFM=s64",
      "userId": "15192440233452648174"
     },
     "user_tz": -330
    },
    "id": "A9mUV08cr41C",
    "outputId": "8d927e64-63fc-41ff-947d-608e4abc0c9b"
   },
   "outputs": [
    {
     "data": {
      "text/plain": [
       "array([0., 0., 0., 0.])"
      ]
     },
     "execution_count": 13,
     "metadata": {},
     "output_type": "execute_result"
    }
   ],
   "source": [
    "mat3 = np.zeros((4,))\n",
    "mat3"
   ]
  },
  {
   "cell_type": "code",
   "execution_count": 14,
   "metadata": {
    "colab": {
     "base_uri": "https://localhost:8080/"
    },
    "executionInfo": {
     "elapsed": 2235,
     "status": "ok",
     "timestamp": 1608207007235,
     "user": {
      "displayName": "Praveen Pareek",
      "photoUrl": "https://lh3.googleusercontent.com/a-/AOh14GiLgDS7q3TkA3v3HhWFuPF6A981GaGFAgzVVWFM=s64",
      "userId": "15192440233452648174"
     },
     "user_tz": -330
    },
    "id": "Yf-bfqCisUEs",
    "outputId": "a8a8aa86-7987-4980-b04a-30b4da7007f5"
   },
   "outputs": [
    {
     "data": {
      "text/plain": [
       "0"
      ]
     },
     "execution_count": 14,
     "metadata": {},
     "output_type": "execute_result"
    }
   ],
   "source": [
    "np.linalg.matrix_rank(mat3)"
   ]
  },
  {
   "cell_type": "markdown",
   "metadata": {
    "id": "_sTyG4Y0MPdb"
   },
   "source": [
    "# <a id='link2'>**Functions and Derivatives**</a>"
   ]
  },
  {
   "cell_type": "markdown",
   "metadata": {
    "id": "6QJwjfH9MpUn"
   },
   "source": [
    "These are the most widely used function in Deep Learning:\n",
    "\n",
    "- Linear: `y = w*x + b`\n",
    "- Exponential: `y = e^x` or `y = np.exp(x)`\n",
    "- Logarithm: `y = log(x)` or `y = np.log(x)`\n",
    "- Power: `y = x**4` or `y = np.power(x, 4)`\n",
    "- Modulus: `y = |x|` or `y = np.absolute(x)`\n",
    "- Trigonometric: `y = cos(x)` or `y = np.cos(x)`"
   ]
  },
  {
   "cell_type": "markdown",
   "metadata": {
    "id": "5044CGDVja26"
   },
   "source": [
    "### Let's define a composite function and visualize that:"
   ]
  },
  {
   "cell_type": "code",
   "execution_count": 15,
   "metadata": {
    "colab": {
     "base_uri": "https://localhost:8080/",
     "height": 405
    },
    "executionInfo": {
     "elapsed": 3379,
     "status": "ok",
     "timestamp": 1608207009119,
     "user": {
      "displayName": "Praveen Pareek",
      "photoUrl": "https://lh3.googleusercontent.com/a-/AOh14GiLgDS7q3TkA3v3HhWFuPF6A981GaGFAgzVVWFM=s64",
      "userId": "15192440233452648174"
     },
     "user_tz": -330
    },
    "id": "uEwrDv6CL5yy",
    "outputId": "6b47f698-d20c-484b-caa4-aada327371ae"
   },
   "outputs": [
    {
     "data": {
      "text/plain": [
       "[<matplotlib.lines.Line2D at 0x7fdc90d29640>]"
      ]
     },
     "execution_count": 15,
     "metadata": {},
     "output_type": "execute_result"
    },
    {
     "data": {
      "image/png": "[encoded data removed]",
      "text/plain": [
       "<Figure size 432x432 with 1 Axes>"
      ]
     },
     "metadata": {},
     "output_type": "display_data"
    }
   ],
   "source": [
    "import matplotlib.pyplot as plt\n",
    "import seaborn as sns\n",
    "\n",
    "def composite_function(x):\n",
    "  sns.set({'figure.figsize': (6,6)})\n",
    "  plt.xlabel('x')\n",
    "  plt.ylabel('z')\n",
    "  y = x**x\n",
    "  z = np.sin(y)\n",
    "  return plt.plot(x, z);\n",
    "\n",
    "x = np.arange(0.01, 3.01, 0.01)\n",
    "composite_function(x)"
   ]
  },
  {
   "cell_type": "markdown",
   "metadata": {
    "id": "SSitOa1PhMoh"
   },
   "source": [
    "# <a id='link3'>**Optimization: Gradient Descent**</a>"
   ]
  },
  {
   "cell_type": "markdown",
   "metadata": {
    "id": "7k6wOAxKCFhE"
   },
   "source": [
    "- For simplicity we choose the objective function  `y = x`<sup>`2`</sup> to illustrate how to implement gradient descent.\n",
    "- Although we know that  `x = 0`  is the solution to minimize y, we still use this simple function to observe how  `x`  changes."
   ]
  },
  {
   "cell_type": "code",
   "execution_count": 16,
   "metadata": {
    "id": "3k9tOXyeMdYz"
   },
   "outputs": [],
   "source": [
    "y = lambda x: x**2                  # Objective function\n",
    "gradient_y = lambda x: 2 * x        # Its derivative"
   ]
  },
  {
   "cell_type": "markdown",
   "metadata": {
    "id": "OivcsP85DOV7"
   },
   "source": [
    "- Next, we use `x = 8` as the initial value and assume `η = 0.1`.\n",
    "- Using gradient descent to iterate `x` for 10 times we can see that, eventually, the value of `x` approaches the optimal solution."
   ]
  },
  {
   "cell_type": "code",
   "execution_count": 17,
   "metadata": {
    "id": "-loQlTebDc_T"
   },
   "outputs": [],
   "source": [
    "def gradient(epoch, learning_rate):\n",
    "    x = 10\n",
    "    results = [x]\n",
    "    for i in range(epoch):\n",
    "        x = x - learning_rate * gradient_y(x)\n",
    "        results.append(float(x))\n",
    "        print('Epoch %d: %f' %(epoch+1, x))\n",
    "    return results"
   ]
  },
  {
   "cell_type": "markdown",
   "metadata": {
    "id": "LuOMY4W5iz2M"
   },
   "source": [
    "### **Terminology:**\n",
    "\n",
    "- **Learning Rate:** In machine learning, the learning rate is a tuning parameter in an optimization algorithm that determines the step size at each iteration while moving toward a minimum of a loss function.\n",
    "\n",
    "It metaphorically represents the speed at which a machine learning model \"learns\".\n",
    "\n",
    "In this case, the learning rate determines the speed at which we reach the minima of the function.\n",
    "\n",
    "So, here is the thing with higher values and lower values of learning rate:\n",
    "- **Higher Learning Rate -** With a high learning rate we can cover more ground each step, but we risk overshooting the lowest point since the slope of the hill is constantly changing.\n",
    "- **Low Learning Rate -** With a very low learning rate, we can confidently move in the direction of the negative gradient since we are recalculating it so frequently. A low learning rate is more precise, but calculating the gradient is time-consuming, so it will take us a very long time to get to the bottom."
   ]
  },
  {
   "cell_type": "code",
   "execution_count": 18,
   "metadata": {
    "colab": {
     "base_uri": "https://localhost:8080/"
    },
    "executionInfo": {
     "elapsed": 2100,
     "status": "ok",
     "timestamp": 1608207009123,
     "user": {
      "displayName": "Praveen Pareek",
      "photoUrl": "https://lh3.googleusercontent.com/a-/AOh14GiLgDS7q3TkA3v3HhWFuPF6A981GaGFAgzVVWFM=s64",
      "userId": "15192440233452648174"
     },
     "user_tz": -330
    },
    "id": "o1vLUsemYIDW",
    "outputId": "65500f33-17d4-47da-dc02-69f2f90ab3a5"
   },
   "outputs": [
    {
     "name": "stdout",
     "output_type": "stream",
     "text": [
      "Epoch 6: 8.000000\n",
      "Epoch 6: 6.400000\n",
      "Epoch 6: 5.120000\n",
      "Epoch 6: 4.096000\n",
      "Epoch 6: 3.276800\n"
     ]
    }
   ],
   "source": [
    "epoch1 = 5\n",
    "learning_rate1 = 0.1\n",
    "result1 = gradient(epoch1, learning_rate1)"
   ]
  },
  {
   "cell_type": "code",
   "execution_count": 19,
   "metadata": {
    "id": "1QBTHBMcX7Se"
   },
   "outputs": [],
   "source": [
    "# show_trajectory(result1, epoch1, learning_rate1)"
   ]
  },
  {
   "cell_type": "code",
   "execution_count": 20,
   "metadata": {
    "colab": {
     "base_uri": "https://localhost:8080/"
    },
    "executionInfo": {
     "elapsed": 2585,
     "status": "ok",
     "timestamp": 1608207010064,
     "user": {
      "displayName": "Praveen Pareek",
      "photoUrl": "https://lh3.googleusercontent.com/a-/AOh14GiLgDS7q3TkA3v3HhWFuPF6A981GaGFAgzVVWFM=s64",
      "userId": "15192440233452648174"
     },
     "user_tz": -330
    },
    "id": "rvg4DNIXYJ44",
    "outputId": "5165faea-3a16-45ea-f53c-2b5a43d0856a"
   },
   "outputs": [
    {
     "name": "stdout",
     "output_type": "stream",
     "text": [
      "Epoch 6: 6.000000\n",
      "Epoch 6: 3.600000\n",
      "Epoch 6: 2.160000\n",
      "Epoch 6: 1.296000\n",
      "Epoch 6: 0.777600\n"
     ]
    }
   ],
   "source": [
    "epoch2 = 5\n",
    "learning_rate2 = 0.2\n",
    "result2 = gradient(epoch2, learning_rate2)"
   ]
  },
  {
   "cell_type": "code",
   "execution_count": 21,
   "metadata": {
    "id": "lSco6zDYX-1N"
   },
   "outputs": [],
   "source": [
    "# show_trajectory(result2, epoch2, learning_rate2)"
   ]
  },
  {
   "cell_type": "code",
   "execution_count": 22,
   "metadata": {
    "colab": {
     "base_uri": "https://localhost:8080/"
    },
    "executionInfo": {
     "elapsed": 2034,
     "status": "ok",
     "timestamp": 1608207010066,
     "user": {
      "displayName": "Praveen Pareek",
      "photoUrl": "https://lh3.googleusercontent.com/a-/AOh14GiLgDS7q3TkA3v3HhWFuPF6A981GaGFAgzVVWFM=s64",
      "userId": "15192440233452648174"
     },
     "user_tz": -330
    },
    "id": "9U50FaVhaiVK",
    "outputId": "bcdcbf89-bfeb-4959-ff0d-1036b5979db9"
   },
   "outputs": [
    {
     "name": "stdout",
     "output_type": "stream",
     "text": [
      "Epoch 21: 8.000000\n",
      "Epoch 21: 6.400000\n",
      "Epoch 21: 5.120000\n",
      "Epoch 21: 4.096000\n",
      "Epoch 21: 3.276800\n",
      "Epoch 21: 2.621440\n",
      "Epoch 21: 2.097152\n",
      "Epoch 21: 1.677722\n",
      "Epoch 21: 1.342177\n",
      "Epoch 21: 1.073742\n",
      "Epoch 21: 0.858993\n",
      "Epoch 21: 0.687195\n",
      "Epoch 21: 0.549756\n",
      "Epoch 21: 0.439805\n",
      "Epoch 21: 0.351844\n",
      "Epoch 21: 0.281475\n",
      "Epoch 21: 0.225180\n",
      "Epoch 21: 0.180144\n",
      "Epoch 21: 0.144115\n",
      "Epoch 21: 0.115292\n"
     ]
    }
   ],
   "source": [
    "epoch3 = 20\n",
    "learning_rate3 = 0.1\n",
    "result3 = gradient(epoch3, learning_rate3)"
   ]
  },
  {
   "cell_type": "code",
   "execution_count": 23,
   "metadata": {
    "id": "LK_Hk1wYann-"
   },
   "outputs": [],
   "source": [
    "# show_trajectory(result3, epoch3, learning_rate3)"
   ]
  },
  {
   "cell_type": "code",
   "execution_count": 24,
   "metadata": {
    "id": "RSLQt5rwGEjv"
   },
   "outputs": [],
   "source": [
    "def show_trajectory(result, epoch, learning_rate, ax=None, **kwargs):\n",
    "    n = max(abs(min(result)), abs(max(result)))\n",
    "    ax = ax\n",
    "    domain = np.arange(-n, n, 0.01)\n",
    "    sns.set({'figure.figsize': (8,8)})\n",
    "    ax.plot(domain, [x**2 for x in domain], '--r', **kwargs)\n",
    "    ax.set_xlabel('x')\n",
    "    ax.set_ylabel('y')\n",
    "    ax.set_title(\"For Epoch = {}, learning rate = {}\".format(epoch, learning_rate)) \n",
    "    ax.plot(result, [x**2 for x in result], '-o', **kwargs)"
   ]
  },
  {
   "cell_type": "code",
   "execution_count": 25,
   "metadata": {
    "colab": {
     "base_uri": "https://localhost:8080/",
     "height": 404
    },
    "executionInfo": {
     "elapsed": 4226,
     "status": "ok",
     "timestamp": 1608207013229,
     "user": {
      "displayName": "Praveen Pareek",
      "photoUrl": "https://lh3.googleusercontent.com/a-/AOh14GiLgDS7q3TkA3v3HhWFuPF6A981GaGFAgzVVWFM=s64",
      "userId": "15192440233452648174"
     },
     "user_tz": -330
    },
    "id": "2mK1Agv0chPR",
    "outputId": "efba192f-6ab7-421a-946b-cbed263dc131"
   },
   "outputs": [
    {
     "data": {
      "image/png": "[encoded data removed]",
      "text/plain": [
       "<Figure size 1296x432 with 3 Axes>"
      ]
     },
     "metadata": {},
     "output_type": "display_data"
    }
   ],
   "source": [
    "fig, (ax1, ax2, ax3) = plt.subplots(1, 3, figsize=(18,6))\n",
    "show_trajectory(result1, epoch1, learning_rate1, ax1)\n",
    "show_trajectory(result2, epoch2, learning_rate2, ax2)\n",
    "show_trajectory(result3, epoch3, learning_rate3, ax3)"
   ]
  },
  {
   "cell_type": "markdown",
   "metadata": {
    "id": "84TefXCDNffV"
   },
   "source": [
    "### Insights:\n",
    "\n",
    "- Here you can see how we achieve the minimum value using different learning rates and epochs in gradient descent.\n",
    "- First, we initialize the minimum value randomly as 10.\n",
    "- As we iterate the gradient descent, we reach nearer to the minima."
   ]
  },
  {
   "cell_type": "markdown",
   "metadata": {
    "id": "65ETzET-hSbo"
   },
   "source": [
    "# <a id='link4'>**Introduction to TensorFlow and Keras**</a>"
   ]
  },
  {
   "cell_type": "markdown",
   "metadata": {
    "id": "95VbJK31hqmJ"
   },
   "source": [
    "### Linear Regression using TensorFlow (To become familiar with the TensorFlow framework by implementing some trivial tasks)"
   ]
  },
  {
   "cell_type": "code",
   "execution_count": 26,
   "metadata": {
    "id": "arFHObSWhUt0"
   },
   "outputs": [],
   "source": [
    "import matplotlib.pyplot as plt\n",
    "import numpy as np\n",
    "import pandas as pd\n",
    "import seaborn as sns"
   ]
  },
  {
   "cell_type": "code",
   "execution_count": 27,
   "metadata": {
    "colab": {
     "base_uri": "https://localhost:8080/"
    },
    "executionInfo": {
     "elapsed": 5731,
     "status": "ok",
     "timestamp": 1608207016244,
     "user": {
      "displayName": "Praveen Pareek",
      "photoUrl": "https://lh3.googleusercontent.com/a-/AOh14GiLgDS7q3TkA3v3HhWFuPF6A981GaGFAgzVVWFM=s64",
      "userId": "15192440233452648174"
     },
     "user_tz": -330
    },
    "id": "ezlsUI8XRz64",
    "outputId": "2a22a975-e85e-4471-99bc-c46da8189b95"
   },
   "outputs": [
    {
     "ename": "ModuleNotFoundError",
     "evalue": "No module named 'tensorflow'",
     "output_type": "error",
     "traceback": [
      "\u001b[0;31m---------------------------------------------------------------------------\u001b[0m",
      "\u001b[0;31mModuleNotFoundError\u001b[0m                       Traceback (most recent call last)",
      "\u001b[0;32m<ipython-input-27-e610ecf6537d>\u001b[0m in \u001b[0;36m<module>\u001b[0;34m\u001b[0m\n\u001b[0;32m----> 1\u001b[0;31m \u001b[0;32mimport\u001b[0m \u001b[0mtensorflow\u001b[0m \u001b[0;32mas\u001b[0m \u001b[0mtf\u001b[0m\u001b[0;34m\u001b[0m\u001b[0;34m\u001b[0m\u001b[0m\n\u001b[0m\u001b[1;32m      2\u001b[0m \u001b[0;34m\u001b[0m\u001b[0m\n\u001b[1;32m      3\u001b[0m \u001b[0;32mfrom\u001b[0m \u001b[0mtensorflow\u001b[0m \u001b[0;32mimport\u001b[0m \u001b[0mkeras\u001b[0m\u001b[0;34m\u001b[0m\u001b[0;34m\u001b[0m\u001b[0m\n\u001b[1;32m      4\u001b[0m \u001b[0;32mfrom\u001b[0m \u001b[0mtensorflow\u001b[0m\u001b[0;34m.\u001b[0m\u001b[0mkeras\u001b[0m \u001b[0;32mimport\u001b[0m \u001b[0mlayers\u001b[0m\u001b[0;34m\u001b[0m\u001b[0;34m\u001b[0m\u001b[0m\n\u001b[1;32m      5\u001b[0m \u001b[0;32mfrom\u001b[0m \u001b[0mtensorflow\u001b[0m\u001b[0;34m.\u001b[0m\u001b[0mkeras\u001b[0m\u001b[0;34m.\u001b[0m\u001b[0mlayers\u001b[0m\u001b[0;34m.\u001b[0m\u001b[0mexperimental\u001b[0m \u001b[0;32mimport\u001b[0m \u001b[0mpreprocessing\u001b[0m\u001b[0;34m\u001b[0m\u001b[0;34m\u001b[0m\u001b[0m\n",
      "\u001b[0;31mModuleNotFoundError\u001b[0m: No module named 'tensorflow'"
     ]
    }
   ],
   "source": [
    "import tensorflow as tf\n",
    "\n",
    "from tensorflow import keras\n",
    "from tensorflow.keras import layers\n",
    "from tensorflow.keras.layers.experimental import preprocessing\n",
    "\n",
    "print(tf.__version__)"
   ]
  },
  {
   "cell_type": "code",
   "execution_count": null,
   "metadata": {
    "id": "6R2nRsgNscN7"
   },
   "outputs": [],
   "source": [
    "tf.random.set_seed(1)         "
   ]
  },
  {
   "cell_type": "markdown",
   "metadata": {
    "id": "ewdKgoQA8wDW"
   },
   "source": [
    "### Now, let's creat a dataset for further demonstration of techniques."
   ]
  },
  {
   "cell_type": "code",
   "execution_count": null,
   "metadata": {
    "id": "N3M5RfYFnLaw"
   },
   "outputs": [],
   "source": [
    "x = np.array([50, 80, 100 , 30, 50, 20, 90, 10, 20, 150, 180, 45, 95, 90, 70, 120],  dtype=float)\n",
    "y = np.array([150, 200, 240, 100, 140, 80, 220, 60, 100, 490, 450, 180, 250, 200, 300, 400],  dtype=float)"
   ]
  },
  {
   "cell_type": "code",
   "execution_count": null,
   "metadata": {
    "colab": {
     "base_uri": "https://localhost:8080/",
     "height": 501
    },
    "executionInfo": {
     "elapsed": 4626,
     "status": "ok",
     "timestamp": 1608207016248,
     "user": {
      "displayName": "Praveen Pareek",
      "photoUrl": "https://lh3.googleusercontent.com/a-/AOh14GiLgDS7q3TkA3v3HhWFuPF6A981GaGFAgzVVWFM=s64",
      "userId": "15192440233452648174"
     },
     "user_tz": -330
    },
    "id": "Qi9AoNsRnMom",
    "outputId": "6c01e17c-60f0-4626-fda4-638951db2d83"
   },
   "outputs": [],
   "source": [
    "plt.scatter(x, y)\n",
    "plt.xlim(0,200)\n",
    "plt.ylim(0,500)\n",
    "plt.xlabel('X')\n",
    "plt.ylabel('Y')\n",
    "plt.show()"
   ]
  },
  {
   "cell_type": "code",
   "execution_count": null,
   "metadata": {
    "id": "a3YRPfTeoI4Z"
   },
   "outputs": [],
   "source": [
    "from sklearn.model_selection import train_test_split\n",
    "X_train, X_test, y_train, y_test = train_test_split(x, y, test_size=0.3, random_state=42)"
   ]
  },
  {
   "cell_type": "code",
   "execution_count": null,
   "metadata": {
    "id": "meFQyKsQokin"
   },
   "outputs": [],
   "source": [
    "model = tf.keras.Sequential([\n",
    "  tf.keras.layers.Dense(units=1, input_shape=[1])\n",
    "])"
   ]
  },
  {
   "cell_type": "markdown",
   "metadata": {
    "id": "ReImjZiYjAXV"
   },
   "source": [
    "### **Terminology:**\n",
    "\n",
    "- **Sequential:** A Sequential model is appropriate for a plain stack of layers where each layer has exactly one input tensor and one output tensor.\n",
    "\n",
    "    If you want to know when to use a Sequential model, read [here](https://www.tensorflow.org/guide/keras/sequential_model#when_to_use_a_sequential_model)\n",
    "- **Dense:** Just your regular densely-connected NN layer.\n",
    "\n",
    "**Note: If you don't understand much about these terms used here, don't worry about it. By the time, you'll get familiar with these terms and their use.**"
   ]
  },
  {
   "cell_type": "code",
   "execution_count": null,
   "metadata": {
    "id": "mEUbQFToopVW"
   },
   "outputs": [],
   "source": [
    "model.compile(loss='mean_squared_error',\n",
    "              optimizer=tf.keras.optimizers.Adam(0.01))"
   ]
  },
  {
   "cell_type": "markdown",
   "metadata": {
    "id": "JEZo4yVEVBqO"
   },
   "source": [
    "### **Terminology:**\n",
    "\n",
    "- **Adam:** Adam is an alternative optimization algorithm that provides more efficient neural network weights by running repeated cycles of \"adaptive moment estimation.\"\n",
    "    - The number inside the paranthesis of the Adam is the learning rate."
   ]
  },
  {
   "cell_type": "code",
   "execution_count": null,
   "metadata": {
    "colab": {
     "base_uri": "https://localhost:8080/"
    },
    "executionInfo": {
     "elapsed": 21348,
     "status": "ok",
     "timestamp": 1608207034819,
     "user": {
      "displayName": "Praveen Pareek",
      "photoUrl": "https://lh3.googleusercontent.com/a-/AOh14GiLgDS7q3TkA3v3HhWFuPF6A981GaGFAgzVVWFM=s64",
      "userId": "15192440233452648174"
     },
     "user_tz": -330
    },
    "id": "S-JTI7OUow4X",
    "outputId": "0cd6406c-be9f-42a0-c464-a6b925c84681"
   },
   "outputs": [],
   "source": [
    "history = model.fit(X_train, y_train, epochs=1000, verbose=False, validation_split=0.1)\n",
    "print(\"Finished training the model\")"
   ]
  },
  {
   "cell_type": "markdown",
   "metadata": {
    "id": "Y-e8-jVhUDRO"
   },
   "source": [
    "### **Terminology:**\n",
    "\n",
    "- **Epoch:** In terms of artificial neural networks, an epoch refers to one cycle through the full training dataset. Usually, training a neural network takes more than a few epochs. In other words, if we feed a neural network the training data for more than one epoch in different patterns, we hope for a better generalization when given a new \"unseen\" input (test data)."
   ]
  },
  {
   "cell_type": "code",
   "execution_count": null,
   "metadata": {
    "colab": {
     "base_uri": "https://localhost:8080/",
     "height": 514
    },
    "executionInfo": {
     "elapsed": 20272,
     "status": "ok",
     "timestamp": 1608207034824,
     "user": {
      "displayName": "Praveen Pareek",
      "photoUrl": "https://lh3.googleusercontent.com/a-/AOh14GiLgDS7q3TkA3v3HhWFuPF6A981GaGFAgzVVWFM=s64",
      "userId": "15192440233452648174"
     },
     "user_tz": -330
    },
    "id": "76qku31ao-83",
    "outputId": "d363cf7b-1a4d-42b3-f2ea-416e0fcb22ef"
   },
   "outputs": [],
   "source": [
    "sns.set({'figure.figsize': (8,8)})\n",
    "plt.xlabel('Epoch Number')\n",
    "plt.ylabel(\"Loss Magnitude\")\n",
    "plt.plot(history.history['loss'])\n",
    "plt.plot(history.history['val_loss'])\n",
    "plt.legend(['train', 'val'], loc='upper left')"
   ]
  },
  {
   "cell_type": "markdown",
   "metadata": {
    "id": "-zhHI8ualICO"
   },
   "source": [
    "### Insights:\n",
    "\n",
    "- The x-axis represents the epochs (number of iterations) and the y-axis represents the Loss magnitude.\n",
    "- We see the loss is decreasing as the number of epochs increase.\n",
    "- It means as we train more, the model becomes more closer to give good predictions. The error between the actual and predicted values reduces."
   ]
  },
  {
   "cell_type": "markdown",
   "metadata": {
    "id": "92-jRQSXm328"
   },
   "source": [
    "### Key Takeaways:\n",
    "\n",
    "- After a certain number of epochs, the loss becomes constant and there is no change. It means that we reached saturation.\n",
    "- As we reached saturation around 300 epochs, there is no need of going for further iterations, as this is the waste of time/resources. [Computation time plays a vital role while you build something at large scale]\n",
    "- So, TensorFlow provides some functions which take care of the above problem. It stops the training if the loss reaches a certain value and it's not changing significantly in the next iterations. It stops automatically according to the threshold you set."
   ]
  },
  {
   "cell_type": "code",
   "execution_count": null,
   "metadata": {
    "colab": {
     "base_uri": "https://localhost:8080/"
    },
    "executionInfo": {
     "elapsed": 19601,
     "status": "ok",
     "timestamp": 1608207035459,
     "user": {
      "displayName": "Praveen Pareek",
      "photoUrl": "https://lh3.googleusercontent.com/a-/AOh14GiLgDS7q3TkA3v3HhWFuPF6A981GaGFAgzVVWFM=s64",
      "userId": "15192440233452648174"
     },
     "user_tz": -330
    },
    "id": "T1y1jtzTpUzh",
    "outputId": "cf5f1286-03d8-4882-a95e-e004dabe1e1b"
   },
   "outputs": [],
   "source": [
    "y_pred = model.predict(X_test)\n",
    "print('Actual Values', y_test)\n",
    "print('Predicted Values', y_pred.reshape(1,-1))"
   ]
  },
  {
   "cell_type": "code",
   "execution_count": null,
   "metadata": {
    "id": "HmJSBT5bm59d"
   },
   "outputs": [],
   "source": []
  }
 ],
 "metadata": {
  "colab": {
   "collapsed_sections": [
    "hou58Zjgq-_V",
    "5044CGDVja26",
    "LuOMY4W5iz2M",
    "84TefXCDNffV",
    "95VbJK31hqmJ",
    "ewdKgoQA8wDW",
    "JEZo4yVEVBqO",
    "Y-e8-jVhUDRO",
    "-zhHI8ualICO",
    "92-jRQSXm328"
   ],
   "name": "Hands-on: Pre-work_Deep Learning.ipynb",
   "provenance": []
  },
  "kernelspec": {
   "display_name": "Python 3",
   "language": "python",
   "name": "python3"
  },
  "language_info": {
   "codemirror_mode": {
    "name": "ipython",
    "version": 3
   },
   "file_extension": ".py",
   "mimetype": "text/x-python",
   "name": "python",
   "nbconvert_exporter": "python",
   "pygments_lexer": "ipython3",
   "version": "3.8.3"
  }
 },
 "nbformat": 4,
 "nbformat_minor": 1
}
