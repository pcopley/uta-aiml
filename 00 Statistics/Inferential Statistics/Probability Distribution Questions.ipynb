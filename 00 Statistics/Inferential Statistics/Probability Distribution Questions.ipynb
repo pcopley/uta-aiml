{
 "cells": [
  {
   "cell_type": "markdown",
   "metadata": {},
   "source": [
    "# 1.You flip a fair coin 10 times. What is the probability of getting 8 or more heads? "
   ]
  },
  {
   "cell_type": "code",
   "execution_count": 1,
   "metadata": {},
   "outputs": [],
   "source": [
    "import numpy as np\n",
    "import scipy.stats as stats\n",
    "import matplotlib.pyplot as pyp"
   ]
  },
  {
   "cell_type": "code",
   "execution_count": 2,
   "metadata": {},
   "outputs": [
    {
     "data": {
      "text/plain": [
       "array([ 0,  1,  2,  3,  4,  5,  6,  7,  8,  9, 10])"
      ]
     },
     "execution_count": 2,
     "metadata": {},
     "output_type": "execute_result"
    }
   ],
   "source": [
    "n_coins = 10 # number of coins flipped\n",
    "p_coins = .5 # probability of heads\n",
    "k_coins = np.arange(0,11) # range for number of heads\n",
    "k_coins"
   ]
  },
  {
   "cell_type": "code",
   "execution_count": 3,
   "metadata": {},
   "outputs": [
    {
     "data": {
      "text/plain": [
       "array([0.00097656, 0.00976563, 0.04394531, 0.1171875 , 0.20507813,\n",
       "       0.24609375, 0.20507813, 0.1171875 , 0.04394531, 0.00976563,\n",
       "       0.00097656])"
      ]
     },
     "execution_count": 3,
     "metadata": {},
     "output_type": "execute_result"
    }
   ],
   "source": [
    "coins = stats.binom.pmf(k_coins, n_coins, p_coins)\n",
    "coins"
   ]
  },
  {
   "cell_type": "code",
   "execution_count": 4,
   "metadata": {},
   "outputs": [
    {
     "data": {
      "text/plain": [
       "0.0546875"
      ]
     },
     "execution_count": 4,
     "metadata": {},
     "output_type": "execute_result"
    }
   ],
   "source": [
    "coins[8] + coins[9] + coins[10]"
   ]
  },
  {
   "cell_type": "markdown",
   "metadata": {},
   "source": [
    "The probability of getting 8 or more heads from 10 flips of a fair coin is 5.47%"
   ]
  },
  {
   "cell_type": "markdown",
   "metadata": {},
   "source": [
    "# 2. The probability that you will win a certain game is 0.3. You play the game 20 times. What is the mean of this binomial distribution?\n"
   ]
  },
  {
   "cell_type": "code",
   "execution_count": 37,
   "metadata": {},
   "outputs": [
    {
     "data": {
      "text/plain": [
       "6.0"
      ]
     },
     "execution_count": 37,
     "metadata": {},
     "output_type": "execute_result"
    }
   ],
   "source": [
    "n_game = 20 # number of games played\n",
    "p_game = .3 # probability of winning\n",
    "k_game = np.arange(0,21)\n",
    "\n",
    "game = stats.binom.pmf(k_game, n_game, p_game)\n",
    "game\n",
    "\n",
    "# Mean is n*p, simple enough\n",
    "n_game*p_game"
   ]
  },
  {
   "cell_type": "code",
   "execution_count": 6,
   "metadata": {},
   "outputs": [
    {
     "data": {
      "image/png": "[encoded data removed]",
      "text/plain": [
       "<Figure size 432x288 with 1 Axes>"
      ]
     },
     "metadata": {
      "needs_background": "light"
     },
     "output_type": "display_data"
    }
   ],
   "source": [
    "pyp.plot(k_game, game, 'o-')\n",
    "pyp.title('Binomial: n=%i, p=%.2f' % (n_game, p_game))\n",
    "pyp.xlabel('Dubs')\n",
    "pyp.ylabel('Probability')\n",
    "pyp.show()"
   ]
  },
  {
   "cell_type": "markdown",
   "metadata": {},
   "source": [
    "# 3. An automatic camera records the number of cars running a red light at an intersection (that is, the cars were going through when the red light was against the car). Analysis of the data shows that on average 15% of light changes record a car running a red light. Assume that the data has a binomial distribution. What is theprobability that in 20 light changes there will be exactly three (3) cars running a red light?"
   ]
  },
  {
   "cell_type": "code",
   "execution_count": 7,
   "metadata": {},
   "outputs": [
    {
     "data": {
      "text/plain": [
       "array([3.87595311e-02, 1.36798345e-01, 2.29338402e-01, 2.42828896e-01,\n",
       "       1.82121672e-01, 1.02845180e-01, 4.53728733e-02, 1.60139553e-02,\n",
       "       4.59223718e-03, 1.08052640e-03, 2.09749241e-04, 3.36496109e-05,\n",
       "       4.45362498e-06, 4.83651581e-07, 4.26751395e-08, 3.01236279e-09,\n",
       "       1.66122948e-10, 6.89783867e-12, 2.02877608e-13, 3.76862429e-15,\n",
       "       3.32525673e-17])"
      ]
     },
     "execution_count": 7,
     "metadata": {},
     "output_type": "execute_result"
    }
   ],
   "source": [
    "n_light = 20\n",
    "p_light = .15\n",
    "k_light = np.arange(0, 21)\n",
    "\n",
    "binom_light = stats.binom.pmf(k_light, n_light, p_light)\n",
    "binom_light"
   ]
  },
  {
   "cell_type": "code",
   "execution_count": 8,
   "metadata": {},
   "outputs": [
    {
     "data": {
      "text/plain": [
       "0.24282889614926725"
      ]
     },
     "execution_count": 8,
     "metadata": {},
     "output_type": "execute_result"
    }
   ],
   "source": [
    "binom_light[3]"
   ]
  },
  {
   "cell_type": "markdown",
   "metadata": {},
   "source": [
    "24.28%"
   ]
  },
  {
   "cell_type": "markdown",
   "metadata": {},
   "source": [
    "# 4. There are 15 sets of traffic lights on the journey.The probability that a driver must stop at any one traffic light coming to alliance University is 0.3  \n",
    "\n",
    "a) What is the probability that a student must stop at exactly 2 of the 15 sets oftraffic lights? \n",
    "\n",
    "b) What is the probability that a student will be stopped at 1 or more of the 15sets of traffic lights? "
   ]
  },
  {
   "cell_type": "code",
   "execution_count": 9,
   "metadata": {},
   "outputs": [
    {
     "data": {
      "text/plain": [
       "array([4.74756151e-03, 3.05200383e-02, 9.15601148e-02, 1.70040213e-01,\n",
       "       2.18623131e-01, 2.06130381e-01, 1.47235986e-01, 8.11300333e-02,\n",
       "       3.47700143e-02, 1.15900048e-02, 2.98028694e-03, 5.80575378e-04,\n",
       "       8.29393397e-05, 8.20279184e-06, 5.02211745e-07, 1.43489070e-08])"
      ]
     },
     "execution_count": 9,
     "metadata": {},
     "output_type": "execute_result"
    }
   ],
   "source": [
    "n_commute = 15\n",
    "p_commute = .3\n",
    "k_commute = np.arange(0,16)\n",
    "\n",
    "binom_commute = stats.binom.pmf(k_commute, n_commute, p_commute)\n",
    "binom_commute"
   ]
  },
  {
   "cell_type": "code",
   "execution_count": 40,
   "metadata": {},
   "outputs": [
    {
     "data": {
      "text/plain": [
       "0.0915601148346156"
      ]
     },
     "execution_count": 40,
     "metadata": {},
     "output_type": "execute_result"
    }
   ],
   "source": [
    "binom_commute[2] # 2 lights exactly"
   ]
  },
  {
   "cell_type": "markdown",
   "metadata": {},
   "source": [
    "a) 9.16%"
   ]
  },
  {
   "cell_type": "code",
   "execution_count": 41,
   "metadata": {},
   "outputs": [
    {
     "data": {
      "text/plain": [
       "0.9952524384900594"
      ]
     },
     "execution_count": 41,
     "metadata": {},
     "output_type": "execute_result"
    }
   ],
   "source": [
    "sum(binom_commute[1:]) # 1 or more lights"
   ]
  },
  {
   "cell_type": "markdown",
   "metadata": {},
   "source": [
    "b) 99.53%"
   ]
  },
  {
   "cell_type": "markdown",
   "metadata": {},
   "source": [
    "# 5. What is the area under the curve of a probability distribution? Explain."
   ]
  },
  {
   "cell_type": "markdown",
   "metadata": {},
   "source": [
    "The area under the probability distribution curve represents the probability of the given number of lights being red on a 15-light commute where each light has an independent probability of being red of 30%."
   ]
  },
  {
   "cell_type": "code",
   "execution_count": 11,
   "metadata": {},
   "outputs": [
    {
     "data": {
      "image/png": "[encoded data removed]",
      "text/plain": [
       "<Figure size 432x288 with 1 Axes>"
      ]
     },
     "metadata": {
      "needs_background": "light"
     },
     "output_type": "display_data"
    }
   ],
   "source": [
    "pyp.plot(k_commute, binom_commute, 'o-')\n",
    "pyp.title('Binomial: n=%i, p=%.2f' % (n_commute, p_commute))\n",
    "pyp.xlabel('Number of red lights on commute')\n",
    "pyp.ylabel('Probability')\n",
    "pyp.show()"
   ]
  },
  {
   "cell_type": "markdown",
   "metadata": {},
   "source": [
    "The area under the *entire* curve is 1 by definition as it is the probability of any occurrence."
   ]
  },
  {
   "cell_type": "markdown",
   "metadata": {},
   "source": [
    "# 6. My Bank has a large Credit Card portfolio. Based on empirical data, they have found that 60% of the customers pay their bill on time. If a sample of 10 accounts is selected from the current database, construct the Probability Distribution of accounts paying on time.\n",
    "Hint: Make use of Function used in Excel or R"
   ]
  },
  {
   "cell_type": "code",
   "execution_count": 12,
   "metadata": {},
   "outputs": [
    {
     "data": {
      "image/png": "[encoded data removed]",
      "text/plain": [
       "<Figure size 432x288 with 1 Axes>"
      ]
     },
     "metadata": {
      "needs_background": "light"
     },
     "output_type": "display_data"
    }
   ],
   "source": [
    "n_bank = 10\n",
    "p_bank = .6\n",
    "k_bank = np.arange(0,11)\n",
    "b_bank = stats.binom.pmf(k_bank, n_bank, p_bank)\n",
    "\n",
    "pyp.plot(k_bank, b_bank, 'o-')\n",
    "pyp.title('Binomial: n=%i, p=%.2f' % (n_bank, p_bank), fontsize=15)\n",
    "pyp.xlabel('Accounts paid on time')\n",
    "pyp.ylabel('Probability')\n",
    "pyp.show()"
   ]
  },
  {
   "cell_type": "markdown",
   "metadata": {},
   "source": [
    "The graph above represents the probability that *n* accounts will pay their bill on time out of a random sample of 10."
   ]
  },
  {
   "cell_type": "markdown",
   "metadata": {},
   "source": [
    "# 7. If the likelihood of a tagged order form is 0.1, What is the probability that there are three tagged order forms in the sample of four?\n",
    "Hint: Use Binomial distribution equation"
   ]
  },
  {
   "cell_type": "code",
   "execution_count": 13,
   "metadata": {},
   "outputs": [
    {
     "data": {
      "text/plain": [
       "0.003600000000000003"
      ]
     },
     "execution_count": 13,
     "metadata": {},
     "output_type": "execute_result"
    }
   ],
   "source": [
    "n_order = 4\n",
    "p_order = .1\n",
    "k_order = np.arange(0,5)\n",
    "b_order = stats.binom.pmf(k_order, n_order, p_order)\n",
    "\n",
    "b_order[3]"
   ]
  },
  {
   "cell_type": "markdown",
   "metadata": {},
   "source": [
    "0.36%"
   ]
  },
  {
   "cell_type": "markdown",
   "metadata": {},
   "source": [
    "# 8. Determine the following:\n",
    "\n",
    "a) For n = 4 and p = 0.12, what is P(X = 0)?\n",
    "\n",
    "b) For n = 6 and p = 0.83, what is P(X = 5)?"
   ]
  },
  {
   "cell_type": "code",
   "execution_count": 14,
   "metadata": {},
   "outputs": [
    {
     "data": {
      "text/plain": [
       "0.59969536"
      ]
     },
     "execution_count": 14,
     "metadata": {},
     "output_type": "execute_result"
    }
   ],
   "source": [
    "n_8a = 4\n",
    "p_8a = .12\n",
    "k_8a = np.arange(0,5)\n",
    "b_8a = stats.binom.pmf(k_8a, n_8a, p_8a)\n",
    "b_8a[0]"
   ]
  },
  {
   "cell_type": "code",
   "execution_count": 15,
   "metadata": {},
   "outputs": [
    {
     "data": {
      "text/plain": [
       "0.4017821455860002"
      ]
     },
     "execution_count": 15,
     "metadata": {},
     "output_type": "execute_result"
    }
   ],
   "source": [
    "n_8b = 6\n",
    "p_8b = .83\n",
    "k_8b = np.arange(0,7)\n",
    "b_8b = stats.binom.pmf(k_8b, n_8b, p_8b)\n",
    "b_8b[5]"
   ]
  },
  {
   "cell_type": "markdown",
   "metadata": {},
   "source": [
    "A) 59.97%\n",
    "\n",
    "B) 40.18%"
   ]
  },
  {
   "cell_type": "markdown",
   "metadata": {},
   "source": [
    "# 9.Determine the mean and standard deviation of the variable X in each of the following binomial distributions:\n",
    "\n",
    "a) n = 4 and p = 0.10\n",
    "\n",
    "b) n = 5 and p = 0.80"
   ]
  },
  {
   "cell_type": "code",
   "execution_count": 43,
   "metadata": {},
   "outputs": [
    {
     "data": {
      "text/plain": [
       "array([6.561e-01, 2.916e-01, 4.860e-02, 3.600e-03, 1.000e-04])"
      ]
     },
     "execution_count": 43,
     "metadata": {},
     "output_type": "execute_result"
    }
   ],
   "source": [
    "b_9a = stats.binom.pmf(np.arange(0,5), 4, .1)\n",
    "b_9a"
   ]
  },
  {
   "cell_type": "code",
   "execution_count": 17,
   "metadata": {},
   "outputs": [
    {
     "data": {
      "text/plain": [
       "0.20000000000000004"
      ]
     },
     "execution_count": 17,
     "metadata": {},
     "output_type": "execute_result"
    }
   ],
   "source": [
    "b_9a.mean()"
   ]
  },
  {
   "cell_type": "code",
   "execution_count": 18,
   "metadata": {},
   "outputs": [
    {
     "data": {
      "text/plain": [
       "0.2521399214721858"
      ]
     },
     "execution_count": 18,
     "metadata": {},
     "output_type": "execute_result"
    }
   ],
   "source": [
    "b_9a.std()"
   ]
  },
  {
   "cell_type": "code",
   "execution_count": 19,
   "metadata": {},
   "outputs": [
    {
     "data": {
      "text/plain": [
       "array([3.2000e-04, 6.4000e-03, 5.1200e-02, 2.0480e-01, 4.0960e-01,\n",
       "       3.2768e-01])"
      ]
     },
     "execution_count": 19,
     "metadata": {},
     "output_type": "execute_result"
    }
   ],
   "source": [
    "b_9b = stats.binom.pmf(np.arange(0,6), 5, .8)\n",
    "b_9b"
   ]
  },
  {
   "cell_type": "code",
   "execution_count": 20,
   "metadata": {},
   "outputs": [
    {
     "data": {
      "text/plain": [
       "0.16666666666666666"
      ]
     },
     "execution_count": 20,
     "metadata": {},
     "output_type": "execute_result"
    }
   ],
   "source": [
    "b_9b.mean()"
   ]
  },
  {
   "cell_type": "code",
   "execution_count": 21,
   "metadata": {},
   "outputs": [
    {
     "data": {
      "text/plain": [
       "0.15973165942361653"
      ]
     },
     "execution_count": 21,
     "metadata": {},
     "output_type": "execute_result"
    }
   ],
   "source": [
    "b_9b.std()"
   ]
  },
  {
   "cell_type": "markdown",
   "metadata": {},
   "source": [
    "A) .20 and .25\n",
    "\n",
    "B) .17 and .16"
   ]
  },
  {
   "cell_type": "markdown",
   "metadata": {},
   "source": [
    "# 10. Assume a poisson distribution with lambda = 5.0. What is the probability that\n",
    "a) X <= 1?\n",
    "\n",
    "b) X > 1?"
   ]
  },
  {
   "cell_type": "code",
   "execution_count": 22,
   "metadata": {},
   "outputs": [
    {
     "data": {
      "text/plain": [
       "array([6.73794700e-03, 3.36897350e-02, 8.42243375e-02, 1.40373896e-01,\n",
       "       1.75467370e-01, 1.75467370e-01, 1.46222808e-01, 1.04444863e-01,\n",
       "       6.52780393e-02, 3.62655774e-02, 1.81327887e-02, 8.24217669e-03,\n",
       "       3.43424029e-03, 1.32086165e-03, 4.71736303e-04, 1.57245434e-04,\n",
       "       4.91391982e-05, 1.44527054e-05, 4.01464038e-06, 1.05648431e-06])"
      ]
     },
     "execution_count": 22,
     "metadata": {},
     "output_type": "execute_result"
    }
   ],
   "source": [
    "poisson = stats.poisson.pmf(np.arange(0,20), 5)\n",
    "poisson"
   ]
  },
  {
   "cell_type": "code",
   "execution_count": 23,
   "metadata": {},
   "outputs": [
    {
     "data": {
      "text/plain": [
       "0.040427681994512805"
      ]
     },
     "execution_count": 23,
     "metadata": {},
     "output_type": "execute_result"
    }
   ],
   "source": [
    "poisson[1] + poisson[0]"
   ]
  },
  {
   "cell_type": "code",
   "execution_count": 24,
   "metadata": {},
   "outputs": [
    {
     "data": {
      "text/plain": [
       "0.9595723180054871"
      ]
     },
     "execution_count": 24,
     "metadata": {},
     "output_type": "execute_result"
    }
   ],
   "source": [
    "1 - poisson[0] - poisson[1]"
   ]
  },
  {
   "cell_type": "markdown",
   "metadata": {},
   "source": [
    "A) 4.04%\n",
    "\n",
    "B) 95.96%"
   ]
  },
  {
   "cell_type": "code",
   "execution_count": 25,
   "metadata": {},
   "outputs": [
    {
     "data": {
      "text/plain": [
       "0.9999996547864174"
      ]
     },
     "execution_count": 25,
     "metadata": {},
     "output_type": "execute_result"
    }
   ],
   "source": [
    "# Sanity check to add all values - the closer we are to 1 \n",
    "# the more accurate our distribution is\n",
    "#\n",
    "# Meaning, if we only create 5 values our sum will be much\n",
    "# less than 1\n",
    "\n",
    "sum(poisson)"
   ]
  },
  {
   "cell_type": "markdown",
   "metadata": {},
   "source": [
    "# 11. The number of work related injuries per month in a manufacturing plant is known to follow a Poisson distribution, with a mean of 2.5 work-related injuries a month.\n",
    "\n",
    "a) What is the probability that in a given month, no work-related injuries occur?\n",
    "\n",
    "b) That at least one work- related injury occurs?\n",
    "\n",
    "Hint: Use Poisson distribution equation, find X = 0, Given lambda = 2.5"
   ]
  },
  {
   "cell_type": "code",
   "execution_count": 26,
   "metadata": {},
   "outputs": [
    {
     "data": {
      "text/plain": [
       "array([8.20849986e-02, 2.05212497e-01, 2.56515621e-01, 2.13763017e-01,\n",
       "       1.33601886e-01, 6.68009429e-02, 2.78337262e-02, 9.94061650e-03,\n",
       "       3.10644266e-03, 8.62900738e-04, 2.15725184e-04, 4.90284510e-05,\n",
       "       1.02142606e-05, 1.96428089e-06, 3.50764445e-07, 5.84607408e-08,\n",
       "       9.13449075e-09, 1.34330746e-09, 1.86570481e-10, 2.45487475e-11])"
      ]
     },
     "execution_count": 26,
     "metadata": {},
     "output_type": "execute_result"
    }
   ],
   "source": [
    "poisson = stats.poisson.pmf(np.arange(0,20), 2.5)\n",
    "poisson"
   ]
  },
  {
   "cell_type": "code",
   "execution_count": 27,
   "metadata": {},
   "outputs": [
    {
     "data": {
      "text/plain": [
       "0.0820849986238988"
      ]
     },
     "execution_count": 27,
     "metadata": {},
     "output_type": "execute_result"
    }
   ],
   "source": [
    "poisson[0]"
   ]
  },
  {
   "cell_type": "code",
   "execution_count": 28,
   "metadata": {},
   "outputs": [
    {
     "data": {
      "text/plain": [
       "0.9179150013761012"
      ]
     },
     "execution_count": 28,
     "metadata": {},
     "output_type": "execute_result"
    }
   ],
   "source": [
    "1 - poisson[0]"
   ]
  },
  {
   "cell_type": "markdown",
   "metadata": {},
   "source": [
    "A) 8.21%\n",
    "\n",
    "B) 91.79%"
   ]
  },
  {
   "cell_type": "markdown",
   "metadata": {},
   "source": [
    "# 12. A 5-litre bucket of water is taken from a swamp. The water contains 75 mosquito larvae. A 200mL flask of water is taken form the bucket for further analysis. What is\n",
    "\n",
    "a) the expected number of larvae in the flask?\n",
    "\n",
    "b) the probability that the flask contains at least one mosquito lava?"
   ]
  },
  {
   "cell_type": "code",
   "execution_count": 47,
   "metadata": {},
   "outputs": [
    {
     "name": "stdout",
     "output_type": "stream",
     "text": [
      "Expected larvae:  3.0\n",
      "Probability of at least one larvae:  0.950212931632136\n"
     ]
    }
   ],
   "source": [
    "expected_larvae = 75/5000*200\n",
    "print('Expected larvae: ', expected_larvae)\n",
    "print('Probability of at least one larvae: ', 1-stats.poisson.pmf(0,3))"
   ]
  },
  {
   "cell_type": "markdown",
   "metadata": {},
   "source": [
    "# 13. Why the need of Standardization? Why do we us Z instead of “the Number of Standard Deviations”?"
   ]
  },
  {
   "cell_type": "markdown",
   "metadata": {},
   "source": [
    "Standardization removes units and eliminates the need for separate distribution tables for each variable."
   ]
  },
  {
   "cell_type": "markdown",
   "metadata": {},
   "source": [
    "# 14. A radar unit is used to measure speeds of cars on a Mumbai – Pune Highway. The speeds are normally distributed with a mean of 70 km/hr and a standard deviation of 10 km/hr.\n",
    "\n",
    "a)What is the probability that a car picked at random is travelling at more than 100 km/hr?\n",
    "\n",
    "b)What is the probability that the car speed is between 80 Km / hr and 100 Km / hr\n",
    "\n",
    "Hint: You can make use of Excel"
   ]
  },
  {
   "cell_type": "code",
   "execution_count": 29,
   "metadata": {},
   "outputs": [
    {
     "data": {
      "text/plain": [
       "0.0013498980316301035"
      ]
     },
     "execution_count": 29,
     "metadata": {},
     "output_type": "execute_result"
    }
   ],
   "source": [
    "# A) Subtract the area to the left of 100 from 1\n",
    "1 - stats.norm.cdf(100, loc=70, scale=10)"
   ]
  },
  {
   "cell_type": "code",
   "execution_count": 30,
   "metadata": {},
   "outputs": [
    {
     "data": {
      "text/plain": [
       "0.15730535589982697"
      ]
     },
     "execution_count": 30,
     "metadata": {},
     "output_type": "execute_result"
    }
   ],
   "source": [
    "# B) Subtract the area to the left of 80 from the area to the left of 100\n",
    "stats.norm.cdf(100, loc=70, scale=10) - stats.norm.cdf(80, loc=70, scale=10)"
   ]
  },
  {
   "cell_type": "markdown",
   "metadata": {},
   "source": [
    "A) The probability of a car traveling more than 100km/hr is 0.13%\n",
    "\n",
    "B) The probability of a car traveling 80-100km/hr is 15.73%"
   ]
  },
  {
   "cell_type": "markdown",
   "metadata": {},
   "source": [
    "# 15. The percentage of orders filled correctly at Wendy's was approximately 86.8%. Suppose that you go to drive-through window at Wendy's and place an order. Two friends of yours independently place orders at the drive-through window at the same Wendy's.\n",
    "\n",
    "What are the probabilities that\n",
    "\n",
    "a) all three filled correctly?\n",
    "\n",
    "b) none of the three filled correctly?\n",
    "\n",
    "c) atleast two of the three orders will be filled correctly?\n",
    "\n",
    "d) what is the mean and standard deviation of the orders filled correctly?"
   ]
  },
  {
   "cell_type": "code",
   "execution_count": 31,
   "metadata": {},
   "outputs": [
    {
     "data": {
      "text/plain": [
       "0.653972032"
      ]
     },
     "execution_count": 31,
     "metadata": {},
     "output_type": "execute_result"
    }
   ],
   "source": [
    "p = .868\n",
    "# A - 86.8^3\n",
    "p**3"
   ]
  },
  {
   "cell_type": "code",
   "execution_count": 32,
   "metadata": {},
   "outputs": [
    {
     "data": {
      "text/plain": [
       "0.0022999680000000003"
      ]
     },
     "execution_count": 32,
     "metadata": {},
     "output_type": "execute_result"
    }
   ],
   "source": [
    "# B - (1-p)^3\n",
    "(1-p)**3"
   ]
  },
  {
   "cell_type": "code",
   "execution_count": 49,
   "metadata": {},
   "outputs": [
    {
     "data": {
      "text/plain": [
       "array([0.00229997, 0.04767206, 0.34602797, 1.        ])"
      ]
     },
     "execution_count": 49,
     "metadata": {},
     "output_type": "execute_result"
    }
   ],
   "source": [
    "# C - Subtract the probability of [0,1] failure from 1\n",
    "cumbinomial = stats.binom.cdf(np.arange(0,4), 3, p)\n",
    "cumbinomial"
   ]
  },
  {
   "cell_type": "code",
   "execution_count": 51,
   "metadata": {},
   "outputs": [
    {
     "data": {
      "text/plain": [
       "0.952327936"
      ]
     },
     "execution_count": 51,
     "metadata": {},
     "output_type": "execute_result"
    }
   ],
   "source": [
    "P = 1-cumbinomial[1]\n",
    "P"
   ]
  },
  {
   "cell_type": "code",
   "execution_count": 54,
   "metadata": {},
   "outputs": [
    {
     "name": "stdout",
     "output_type": "stream",
     "text": [
      "Mean:  2.604\n",
      "SD:  0.5862832080146932\n"
     ]
    }
   ],
   "source": [
    "p_d = .868\n",
    "n_d = 3\n",
    "mean_d = n_d*p_d\n",
    "sd_d = np.sqrt(n_d*p_d*(1-p_d))\n",
    "print('Mean: ', mean_d)\n",
    "print('SD: ', sd_d)"
   ]
  },
  {
   "cell_type": "code",
   "execution_count": 56,
   "metadata": {},
   "outputs": [
    {
     "data": {
      "image/png": "[encoded data removed]",
      "text/plain": [
       "<Figure size 432x288 with 1 Axes>"
      ]
     },
     "metadata": {
      "needs_background": "light"
     },
     "output_type": "display_data"
    }
   ],
   "source": [
    "k = np.arange(0,4)\n",
    "n = 3\n",
    "p = .868\n",
    "b = stats.binom.pmf(k, n, p)\n",
    "\n",
    "pyp.plot(k, b, 'o-')\n",
    "pyp.title('Binomial')\n",
    "pyp.xlabel('Number of orders filled correctly')\n",
    "pyp.ylabel('Probability of orders filled correctly')\n",
    "pyp.show()"
   ]
  },
  {
   "cell_type": "markdown",
   "metadata": {},
   "source": [
    "A) 65.40%\n",
    "\n",
    "B) 0.23%\n",
    "\n",
    "C) 95.23%\n",
    "\n",
    "D) 2.604; 58.63%"
   ]
  }
 ],
 "metadata": {
  "kernelspec": {
   "display_name": "Python 3",
   "language": "python",
   "name": "python3"
  },
  "language_info": {
   "codemirror_mode": {
    "name": "ipython",
    "version": 3
   },
   "file_extension": ".py",
   "mimetype": "text/x-python",
   "name": "python",
   "nbconvert_exporter": "python",
   "pygments_lexer": "ipython3",
   "version": "3.8.3"
  }
 },
 "nbformat": 4,
 "nbformat_minor": 2
}
